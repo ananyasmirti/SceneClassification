{
  "nbformat": 4,
  "nbformat_minor": 0,
  "metadata": {
    "colab": {
      "name": "MobilenetV2_aug.ipynb",
      "provenance": []
    },
    "kernelspec": {
      "name": "python3",
      "display_name": "Python 3"
    },
    "language_info": {
      "name": "python"
    },
    "accelerator": "GPU"
  },
  "cells": [
    {
      "cell_type": "code",
      "metadata": {
        "colab": {
          "base_uri": "https://localhost:8080/"
        },
        "id": "PJ9BUQRXOKB5",
        "outputId": "25cd7e10-4a76-4e55-e573-c532cf959a47"
      },
      "source": [
        "from google.colab import drive \n",
        "drive.mount('/content/drive')"
      ],
      "execution_count": null,
      "outputs": [
        {
          "output_type": "stream",
          "text": [
            "Mounted at /content/drive\n"
          ],
          "name": "stdout"
        }
      ]
    },
    {
      "cell_type": "code",
      "metadata": {
        "id": "sM040hqoOOR4"
      },
      "source": [
        "!mkdir Places2"
      ],
      "execution_count": null,
      "outputs": []
    },
    {
      "cell_type": "code",
      "metadata": {
        "id": "W_ZYnX5VOQ7I"
      },
      "source": [
        "import shutil \n",
        "shutil.unpack_archive(\"drive/MyDrive/Places2.zip\", \"Places2/\")"
      ],
      "execution_count": null,
      "outputs": []
    },
    {
      "cell_type": "code",
      "metadata": {
        "id": "pYdT6mmLOVC1"
      },
      "source": [
        "from __future__ import absolute_import, division, print_function, unicode_literals\n",
        "\n",
        "import os\n",
        "\n",
        "import numpy as np\n",
        "\n",
        "import matplotlib.pyplot as plt\n",
        "\n",
        "import pathlib"
      ],
      "execution_count": null,
      "outputs": []
    },
    {
      "cell_type": "code",
      "metadata": {
        "colab": {
          "base_uri": "https://localhost:8080/"
        },
        "id": "83TG5qHZOWRJ",
        "outputId": "8ed06af8-75b3-4e00-dd33-53174579d24c"
      },
      "source": [
        "from os import listdir\n",
        "data_list = listdir('/content/Places2/Places2')\n",
        "\n",
        "#Delete some classes that may interfere\n",
        "\n",
        "\n",
        "data_list"
      ],
      "execution_count": null,
      "outputs": [
        {
          "output_type": "execute_result",
          "data": {
            "text/plain": [
              "['test', 'train']"
            ]
          },
          "metadata": {
            "tags": []
          },
          "execution_count": 6
        }
      ]
    },
    {
      "cell_type": "code",
      "metadata": {
        "id": "N6DBZWD3OgJT"
      },
      "source": [
        "from tensorflow.keras.preprocessing.image import ImageDataGenerator"
      ],
      "execution_count": null,
      "outputs": []
    },
    {
      "cell_type": "code",
      "metadata": {
        "id": "7c-kMlsDOjk3"
      },
      "source": [
        "DATASET_PATH  = '/content/Places2/Places2/train'\n",
        "test_dir =  '/content/Places2/Places2/test'\n",
        "IMAGE_SIZE    = (256, 256)\n",
        "NUM_CLASSES   = len(data_list)\n",
        "BATCH_SIZE    = 32 # try reducing batch size or freeze more layers if your GPU runs out of memory\n",
        "NUM_EPOCHS    = 10\n",
        "LEARNING_RATE = 0.0001 #start off with high rate first 0.001 #5e-4"
      ],
      "execution_count": null,
      "outputs": []
    },
    {
      "cell_type": "code",
      "metadata": {
        "id": "AL2Ulw1tQ1l4"
      },
      "source": [
        "from tensorflow.keras.preprocessing.image import ImageDataGenerator"
      ],
      "execution_count": null,
      "outputs": []
    },
    {
      "cell_type": "code",
      "metadata": {
        "colab": {
          "base_uri": "https://localhost:8080/"
        },
        "id": "mGO7IOpTOlZS",
        "outputId": "79186b72-c283-4363-d39e-53c7f7289d36"
      },
      "source": [
        "train_datagen = ImageDataGenerator(rescale=1./255,\n",
        "                                   rotation_range=50,\n",
        "                                   featurewise_center = True,\n",
        "                                   featurewise_std_normalization = True,\n",
        "                                   width_shift_range=0.2,\n",
        "                                   height_shift_range=0.2,\n",
        "                                   shear_range=0.25,\n",
        "                                   zoom_range=0.1,\n",
        "                                   zca_whitening = True,\n",
        "                                   channel_shift_range = 20,\n",
        "                                   horizontal_flip = True ,\n",
        "                                   vertical_flip = True ,\n",
        "                                   validation_split = 0.2,\n",
        "                                   fill_mode='nearest')"
      ],
      "execution_count": null,
      "outputs": [
        {
          "output_type": "stream",
          "text": [
            "/usr/local/lib/python3.7/dist-packages/keras_preprocessing/image/image_data_generator.py:342: UserWarning: This ImageDataGenerator specifies `zca_whitening` which overrides setting of`featurewise_std_normalization`.\n",
            "  warnings.warn('This ImageDataGenerator specifies '\n"
          ],
          "name": "stderr"
        }
      ]
    },
    {
      "cell_type": "code",
      "metadata": {
        "colab": {
          "base_uri": "https://localhost:8080/"
        },
        "id": "k4z-DWxOOrCL",
        "outputId": "83daf986-31d3-464e-da2f-3add518769c8"
      },
      "source": [
        "train_batches = train_datagen.flow_from_directory(DATASET_PATH,\n",
        "                                                  target_size=IMAGE_SIZE,\n",
        "                                                  shuffle=True,\n",
        "                                                  batch_size=BATCH_SIZE,\n",
        "                                                  subset = \"training\",\n",
        "                                                  seed=42,\n",
        "                                                  color_mode=\"rgb\",\n",
        "                                                  class_mode=\"categorical\",\n",
        "                                                 \n",
        "                                                  )"
      ],
      "execution_count": null,
      "outputs": [
        {
          "output_type": "stream",
          "text": [
            "Found 4651 images belonging to 2 classes.\n"
          ],
          "name": "stdout"
        }
      ]
    },
    {
      "cell_type": "code",
      "metadata": {
        "colab": {
          "base_uri": "https://localhost:8080/"
        },
        "id": "ohyaZvP9OveV",
        "outputId": "e6a8b2d0-ea32-485a-921e-2ca1fe21e60d"
      },
      "source": [
        "validation_batches = train_datagen.flow_from_directory(DATASET_PATH,\n",
        "                                                  target_size=IMAGE_SIZE,\n",
        "                                                  shuffle=True,\n",
        "                                                  batch_size=BATCH_SIZE,\n",
        "                                                  subset = \"validation\",\n",
        "                                                  seed=42,\n",
        "                                                  color_mode=\"rgb\",\n",
        "                                                  class_mode=\"categorical\",\n",
        "                                                  \n",
        "                                                 \n",
        "                                                  )"
      ],
      "execution_count": null,
      "outputs": [
        {
          "output_type": "stream",
          "text": [
            "Found 1162 images belonging to 2 classes.\n"
          ],
          "name": "stdout"
        }
      ]
    },
    {
      "cell_type": "code",
      "metadata": {
        "id": "7QTgFb0dOw-t"
      },
      "source": [
        "SHAPE_INP=(256,256, 3)\n",
        "input_shape=(None,256,256, 3)\n",
        "IMG_SIZE=256"
      ],
      "execution_count": null,
      "outputs": []
    },
    {
      "cell_type": "code",
      "metadata": {
        "id": "3ogLMcdZRK4L"
      },
      "source": [
        "try:\n",
        "  # %tensorflow_version only exists in Colab.\n",
        "  %tensorflow_version 2.x\n",
        "except Exception:\n",
        "  pass\n",
        "import tensorflow as tf\n",
        "\n",
        "keras = tf.keras"
      ],
      "execution_count": null,
      "outputs": []
    },
    {
      "cell_type": "code",
      "metadata": {
        "id": "9SkOU1TvjWz2"
      },
      "source": [
        "from keras.applications.mobilenet_v2 import MobileNetV2"
      ],
      "execution_count": null,
      "outputs": []
    },
    {
      "cell_type": "code",
      "metadata": {
        "colab": {
          "base_uri": "https://localhost:8080/"
        },
        "id": "0P-OaRckje3j",
        "outputId": "9080aa25-b3e7-49b8-e96d-efeb2da59e9d"
      },
      "source": [
        "pip install keras --user"
      ],
      "execution_count": null,
      "outputs": [
        {
          "output_type": "stream",
          "text": [
            "Requirement already satisfied: keras in /usr/local/lib/python3.7/dist-packages (2.4.3)\n",
            "Requirement already satisfied: pyyaml in /usr/local/lib/python3.7/dist-packages (from keras) (3.13)\n",
            "Requirement already satisfied: h5py in /usr/local/lib/python3.7/dist-packages (from keras) (3.1.0)\n",
            "Requirement already satisfied: numpy>=1.9.1 in /usr/local/lib/python3.7/dist-packages (from keras) (1.19.5)\n",
            "Requirement already satisfied: scipy>=0.14 in /usr/local/lib/python3.7/dist-packages (from keras) (1.4.1)\n",
            "Requirement already satisfied: cached-property; python_version < \"3.8\" in /usr/local/lib/python3.7/dist-packages (from h5py->keras) (1.5.2)\n"
          ],
          "name": "stdout"
        }
      ]
    },
    {
      "cell_type": "code",
      "metadata": {
        "colab": {
          "base_uri": "https://localhost:8080/"
        },
        "id": "7O1fWbK0O2BY",
        "outputId": "2111af88-8f3a-4b93-de2c-8d8b1d1ec46a"
      },
      "source": [
        "IMG_SHAPE = (256, 256, 3)\n",
        "\n",
        "# Create the base model from the pre-trained model MobileNet V2\n",
        "base_model = MobileNetV2(weights='imagenet',\n",
        "                  include_top=False,\n",
        "                  input_shape= SHAPE_INP)"
      ],
      "execution_count": null,
      "outputs": [
        {
          "output_type": "stream",
          "text": [
            "WARNING:tensorflow:`input_shape` is undefined or non-square, or `rows` is not in [96, 128, 160, 192, 224]. Weights for input shape (224, 224) will be loaded as the default.\n"
          ],
          "name": "stdout"
        }
      ]
    },
    {
      "cell_type": "code",
      "metadata": {
        "id": "C5aw6IkaPDf_"
      },
      "source": [
        "base_model.trainable = False"
      ],
      "execution_count": null,
      "outputs": []
    },
    {
      "cell_type": "code",
      "metadata": {
        "id": "zoL_RelHRq8m"
      },
      "source": [
        "from keras import models\n",
        "from keras import layers"
      ],
      "execution_count": null,
      "outputs": []
    },
    {
      "cell_type": "code",
      "metadata": {
        "id": "L4P418G9PINo"
      },
      "source": [
        "\n",
        "model = models.Sequential()\n",
        "model.add(base_model)\n",
        "model.add(layers.GlobalAveragePooling2D())\n",
        "model.add(layers.Dense(2 , activation=\"softmax\"))\n",
        "base_learning_rate = 0.0001\n",
        "model.compile(optimizer=tf.keras.optimizers.RMSprop(learning_rate=base_learning_rate),\n",
        "              loss=tf.keras.losses.BinaryCrossentropy(from_logits=False),\n",
        "              metrics=['accuracy'])"
      ],
      "execution_count": null,
      "outputs": []
    },
    {
      "cell_type": "code",
      "metadata": {
        "colab": {
          "base_uri": "https://localhost:8080/"
        },
        "id": "0s52lyohPi6U",
        "outputId": "4451bd4a-0096-4513-ac74-5521fcaafc1e"
      },
      "source": [
        "model.summary()"
      ],
      "execution_count": null,
      "outputs": [
        {
          "output_type": "stream",
          "text": [
            "Model: \"sequential\"\n",
            "_________________________________________________________________\n",
            "Layer (type)                 Output Shape              Param #   \n",
            "=================================================================\n",
            "mobilenetv2_1.00_224 (Functi (None, 8, 8, 1280)        2257984   \n",
            "_________________________________________________________________\n",
            "global_average_pooling2d (Gl (None, 1280)              0         \n",
            "_________________________________________________________________\n",
            "dense (Dense)                (None, 2)                 2562      \n",
            "=================================================================\n",
            "Total params: 2,260,546\n",
            "Trainable params: 2,562\n",
            "Non-trainable params: 2,257,984\n",
            "_________________________________________________________________\n"
          ],
          "name": "stdout"
        }
      ]
    },
    {
      "cell_type": "code",
      "metadata": {
        "colab": {
          "base_uri": "https://localhost:8080/"
        },
        "id": "a1vsMAuNPkqV",
        "outputId": "c8cac047-0427-4a09-9726-1bf617965e57"
      },
      "source": [
        "len(model.trainable_variables)"
      ],
      "execution_count": null,
      "outputs": [
        {
          "output_type": "execute_result",
          "data": {
            "text/plain": [
              "2"
            ]
          },
          "metadata": {
            "tags": []
          },
          "execution_count": 29
        }
      ]
    },
    {
      "cell_type": "code",
      "metadata": {
        "colab": {
          "base_uri": "https://localhost:8080/"
        },
        "id": "qd9cOHX7Pl7_",
        "outputId": "5c065eb8-39db-402b-ea4c-511b0ed46c11"
      },
      "source": [
        "initial_epochs = 10\n",
        "validation_steps=5\n",
        "\n",
        "loss0,accuracy0 = model.evaluate(validation_batches, steps = validation_steps)"
      ],
      "execution_count": null,
      "outputs": [
        {
          "output_type": "stream",
          "text": [
            "/usr/local/lib/python3.7/dist-packages/keras_preprocessing/image/image_data_generator.py:720: UserWarning: This ImageDataGenerator specifies `featurewise_center`, but it hasn't been fit on any training data. Fit it first by calling `.fit(numpy_data)`.\n",
            "  warnings.warn('This ImageDataGenerator specifies '\n",
            "/usr/local/lib/python3.7/dist-packages/keras_preprocessing/image/image_data_generator.py:739: UserWarning: This ImageDataGenerator specifies `zca_whitening`, but it hasn't been fit on any training data. Fit it first by calling `.fit(numpy_data)`.\n",
            "  warnings.warn('This ImageDataGenerator specifies '\n"
          ],
          "name": "stderr"
        },
        {
          "output_type": "stream",
          "text": [
            "5/5 [==============================] - 53s 363ms/step - loss: 0.7672 - accuracy: 0.5751\n"
          ],
          "name": "stdout"
        }
      ]
    },
    {
      "cell_type": "code",
      "metadata": {
        "colab": {
          "base_uri": "https://localhost:8080/"
        },
        "id": "0tLo72fbkziP",
        "outputId": "1da25181-c76f-476f-d676-4fdba02e7bd4"
      },
      "source": [
        "print(\"initial loss: {:.2f}\".format(loss0))\n",
        "print(\"initial accuracy: {:.2f}\".format(accuracy0))"
      ],
      "execution_count": null,
      "outputs": [
        {
          "output_type": "stream",
          "text": [
            "initial loss: 0.77\n",
            "initial accuracy: 0.56\n"
          ],
          "name": "stdout"
        }
      ]
    },
    {
      "cell_type": "code",
      "metadata": {
        "colab": {
          "base_uri": "https://localhost:8080/"
        },
        "id": "Zp0oicqsk1B5",
        "outputId": "046135a4-965d-48b1-d988-be238132a2fd"
      },
      "source": [
        "\n",
        "STEP_SIZE_TRAIN=train_batches.n//train_batches.batch_size\n",
        "STEP_SIZE_VALID=validation_batches.n//validation_batches.batch_size\n",
        "history = model.fit(train_batches,\n",
        "                    epochs=initial_epochs,\n",
        "                    validation_data=validation_batches,\n",
        "                    steps_per_epoch =STEP_SIZE_TRAIN,\n",
        "    validation_steps = STEP_SIZE_VALID)"
      ],
      "execution_count": null,
      "outputs": [
        {
          "output_type": "stream",
          "text": [
            "/usr/local/lib/python3.7/dist-packages/keras_preprocessing/image/image_data_generator.py:720: UserWarning: This ImageDataGenerator specifies `featurewise_center`, but it hasn't been fit on any training data. Fit it first by calling `.fit(numpy_data)`.\n",
            "  warnings.warn('This ImageDataGenerator specifies '\n",
            "/usr/local/lib/python3.7/dist-packages/keras_preprocessing/image/image_data_generator.py:739: UserWarning: This ImageDataGenerator specifies `zca_whitening`, but it hasn't been fit on any training data. Fit it first by calling `.fit(numpy_data)`.\n",
            "  warnings.warn('This ImageDataGenerator specifies '\n"
          ],
          "name": "stderr"
        },
        {
          "output_type": "stream",
          "text": [
            "Epoch 1/10\n",
            "145/145 [==============================] - 87s 605ms/step - loss: 0.5668 - accuracy: 0.7629 - val_loss: 0.5258 - val_accuracy: 0.7894\n",
            "Epoch 2/10\n",
            "145/145 [==============================] - 89s 614ms/step - loss: 0.4702 - accuracy: 0.8279 - val_loss: 0.4762 - val_accuracy: 0.7956\n",
            "Epoch 3/10\n",
            "145/145 [==============================] - 88s 610ms/step - loss: 0.4045 - accuracy: 0.8584 - val_loss: 0.4491 - val_accuracy: 0.7982\n",
            "Epoch 4/10\n",
            "145/145 [==============================] - 88s 611ms/step - loss: 0.3871 - accuracy: 0.8523 - val_loss: 0.4271 - val_accuracy: 0.8035\n",
            "Epoch 5/10\n",
            "145/145 [==============================] - 87s 605ms/step - loss: 0.3535 - accuracy: 0.8690 - val_loss: 0.4203 - val_accuracy: 0.8150\n",
            "Epoch 6/10\n",
            "145/145 [==============================] - 87s 606ms/step - loss: 0.3503 - accuracy: 0.8699 - val_loss: 0.4335 - val_accuracy: 0.8018\n",
            "Epoch 7/10\n",
            "145/145 [==============================] - 89s 615ms/step - loss: 0.3432 - accuracy: 0.8723 - val_loss: 0.3928 - val_accuracy: 0.8292\n",
            "Epoch 8/10\n",
            "145/145 [==============================] - 88s 611ms/step - loss: 0.3239 - accuracy: 0.8755 - val_loss: 0.3887 - val_accuracy: 0.8434\n",
            "Epoch 9/10\n",
            "145/145 [==============================] - 88s 609ms/step - loss: 0.3367 - accuracy: 0.8679 - val_loss: 0.4028 - val_accuracy: 0.8363\n",
            "Epoch 10/10\n",
            "145/145 [==============================] - 87s 603ms/step - loss: 0.3235 - accuracy: 0.8710 - val_loss: 0.4238 - val_accuracy: 0.8027\n"
          ],
          "name": "stdout"
        }
      ]
    },
    {
      "cell_type": "code",
      "metadata": {
        "id": "nqlwqQmzpG5c"
      },
      "source": [
        "acc = history.history['accuracy']\n",
        "val_acc = history.history['val_accuracy']\n",
        "\n",
        "loss = history.history['loss']\n",
        "val_loss = history.history['val_loss']"
      ],
      "execution_count": null,
      "outputs": []
    },
    {
      "cell_type": "code",
      "metadata": {
        "colab": {
          "base_uri": "https://localhost:8080/"
        },
        "id": "FMV-FhapoflY",
        "outputId": "1882e5a1-0bf7-4a8a-ef52-51783cdbdba9"
      },
      "source": [
        "STEP_SIZE_TRAIN=train_batches.n//train_batches.batch_size\n",
        "STEP_SIZE_VALID=validation_batches.n//validation_batches.batch_size\n",
        "history1 = model.fit(train_batches,\n",
        "                    epochs=40,\n",
        "                    validation_data=validation_batches,\n",
        "                    steps_per_epoch =STEP_SIZE_TRAIN,\n",
        "    validation_steps = STEP_SIZE_VALID)"
      ],
      "execution_count": null,
      "outputs": [
        {
          "output_type": "stream",
          "text": [
            "/usr/local/lib/python3.7/dist-packages/keras_preprocessing/image/image_data_generator.py:720: UserWarning: This ImageDataGenerator specifies `featurewise_center`, but it hasn't been fit on any training data. Fit it first by calling `.fit(numpy_data)`.\n",
            "  warnings.warn('This ImageDataGenerator specifies '\n",
            "/usr/local/lib/python3.7/dist-packages/keras_preprocessing/image/image_data_generator.py:739: UserWarning: This ImageDataGenerator specifies `zca_whitening`, but it hasn't been fit on any training data. Fit it first by calling `.fit(numpy_data)`.\n",
            "  warnings.warn('This ImageDataGenerator specifies '\n"
          ],
          "name": "stderr"
        },
        {
          "output_type": "stream",
          "text": [
            "Epoch 1/40\n",
            "145/145 [==============================] - 87s 600ms/step - loss: 0.3242 - accuracy: 0.8757 - val_loss: 0.3918 - val_accuracy: 0.8354\n",
            "Epoch 2/40\n",
            "145/145 [==============================] - 87s 601ms/step - loss: 0.3077 - accuracy: 0.8827 - val_loss: 0.3980 - val_accuracy: 0.8195\n",
            "Epoch 3/40\n",
            "145/145 [==============================] - 88s 611ms/step - loss: 0.3121 - accuracy: 0.8775 - val_loss: 0.3867 - val_accuracy: 0.8204\n",
            "Epoch 4/40\n",
            "145/145 [==============================] - 87s 606ms/step - loss: 0.3092 - accuracy: 0.8798 - val_loss: 0.3917 - val_accuracy: 0.8283\n",
            "Epoch 5/40\n",
            "145/145 [==============================] - 88s 608ms/step - loss: 0.3067 - accuracy: 0.8835 - val_loss: 0.3841 - val_accuracy: 0.8257\n",
            "Epoch 6/40\n",
            "145/145 [==============================] - 87s 601ms/step - loss: 0.3023 - accuracy: 0.8820 - val_loss: 0.3692 - val_accuracy: 0.8354\n",
            "Epoch 7/40\n",
            "145/145 [==============================] - 87s 603ms/step - loss: 0.3051 - accuracy: 0.8794 - val_loss: 0.4037 - val_accuracy: 0.8195\n",
            "Epoch 8/40\n",
            "145/145 [==============================] - 88s 608ms/step - loss: 0.2976 - accuracy: 0.8896 - val_loss: 0.3669 - val_accuracy: 0.8496\n",
            "Epoch 9/40\n",
            "145/145 [==============================] - 88s 614ms/step - loss: 0.3001 - accuracy: 0.8861 - val_loss: 0.3597 - val_accuracy: 0.8434\n",
            "Epoch 10/40\n",
            "145/145 [==============================] - 87s 604ms/step - loss: 0.3033 - accuracy: 0.8833 - val_loss: 0.3955 - val_accuracy: 0.8301\n",
            "Epoch 11/40\n",
            "145/145 [==============================] - 88s 609ms/step - loss: 0.3027 - accuracy: 0.8853 - val_loss: 0.3752 - val_accuracy: 0.8460\n",
            "Epoch 12/40\n",
            "145/145 [==============================] - 87s 601ms/step - loss: 0.2889 - accuracy: 0.8866 - val_loss: 0.3954 - val_accuracy: 0.8292\n",
            "Epoch 13/40\n",
            "145/145 [==============================] - 87s 601ms/step - loss: 0.2842 - accuracy: 0.8928 - val_loss: 0.3698 - val_accuracy: 0.8504\n",
            "Epoch 14/40\n",
            "145/145 [==============================] - 87s 606ms/step - loss: 0.2886 - accuracy: 0.8915 - val_loss: 0.3925 - val_accuracy: 0.8283\n",
            "Epoch 15/40\n",
            "145/145 [==============================] - 88s 613ms/step - loss: 0.2942 - accuracy: 0.8846 - val_loss: 0.3748 - val_accuracy: 0.8381\n",
            "Epoch 16/40\n",
            "145/145 [==============================] - 87s 602ms/step - loss: 0.2877 - accuracy: 0.8915 - val_loss: 0.3832 - val_accuracy: 0.8345\n",
            "Epoch 17/40\n",
            "145/145 [==============================] - 86s 597ms/step - loss: 0.2980 - accuracy: 0.8887 - val_loss: 0.3810 - val_accuracy: 0.8363\n",
            "Epoch 18/40\n",
            "145/145 [==============================] - 87s 604ms/step - loss: 0.2871 - accuracy: 0.8887 - val_loss: 0.3762 - val_accuracy: 0.8398\n",
            "Epoch 19/40\n",
            "145/145 [==============================] - 87s 606ms/step - loss: 0.2872 - accuracy: 0.8907 - val_loss: 0.3763 - val_accuracy: 0.8336\n",
            "Epoch 20/40\n",
            "145/145 [==============================] - 88s 608ms/step - loss: 0.2802 - accuracy: 0.8924 - val_loss: 0.3880 - val_accuracy: 0.8292\n",
            "Epoch 21/40\n",
            "145/145 [==============================] - 86s 600ms/step - loss: 0.2872 - accuracy: 0.8898 - val_loss: 0.3619 - val_accuracy: 0.8425\n",
            "Epoch 22/40\n",
            "145/145 [==============================] - 86s 595ms/step - loss: 0.2822 - accuracy: 0.8918 - val_loss: 0.3774 - val_accuracy: 0.8363\n",
            "Epoch 23/40\n",
            "145/145 [==============================] - 88s 611ms/step - loss: 0.2784 - accuracy: 0.8885 - val_loss: 0.3629 - val_accuracy: 0.8504\n",
            "Epoch 24/40\n",
            "145/145 [==============================] - 87s 601ms/step - loss: 0.2877 - accuracy: 0.8913 - val_loss: 0.3871 - val_accuracy: 0.8372\n",
            "Epoch 25/40\n",
            "145/145 [==============================] - 87s 605ms/step - loss: 0.2780 - accuracy: 0.8920 - val_loss: 0.3591 - val_accuracy: 0.8460\n",
            "Epoch 26/40\n",
            "145/145 [==============================] - 87s 604ms/step - loss: 0.2808 - accuracy: 0.8905 - val_loss: 0.3791 - val_accuracy: 0.8319\n",
            "Epoch 27/40\n",
            "145/145 [==============================] - 87s 602ms/step - loss: 0.2720 - accuracy: 0.8946 - val_loss: 0.3631 - val_accuracy: 0.8451\n",
            "Epoch 28/40\n",
            "145/145 [==============================] - 86s 595ms/step - loss: 0.2805 - accuracy: 0.8870 - val_loss: 0.3595 - val_accuracy: 0.8451\n",
            "Epoch 29/40\n",
            "145/145 [==============================] - 87s 602ms/step - loss: 0.2840 - accuracy: 0.8881 - val_loss: 0.3676 - val_accuracy: 0.8478\n",
            "Epoch 30/40\n",
            "145/145 [==============================] - 87s 601ms/step - loss: 0.2762 - accuracy: 0.8943 - val_loss: 0.3822 - val_accuracy: 0.8425\n",
            "Epoch 31/40\n",
            "145/145 [==============================] - 87s 606ms/step - loss: 0.2728 - accuracy: 0.8954 - val_loss: 0.3611 - val_accuracy: 0.8531\n",
            "Epoch 32/40\n",
            "145/145 [==============================] - 87s 602ms/step - loss: 0.2747 - accuracy: 0.8972 - val_loss: 0.3860 - val_accuracy: 0.8416\n",
            "Epoch 33/40\n",
            "145/145 [==============================] - 86s 596ms/step - loss: 0.2819 - accuracy: 0.8913 - val_loss: 0.3520 - val_accuracy: 0.8460\n",
            "Epoch 34/40\n",
            "145/145 [==============================] - 88s 611ms/step - loss: 0.2789 - accuracy: 0.8939 - val_loss: 0.3745 - val_accuracy: 0.8460\n",
            "Epoch 35/40\n",
            "145/145 [==============================] - 86s 599ms/step - loss: 0.2715 - accuracy: 0.8963 - val_loss: 0.3579 - val_accuracy: 0.8434\n",
            "Epoch 36/40\n",
            "145/145 [==============================] - 88s 609ms/step - loss: 0.2722 - accuracy: 0.8937 - val_loss: 0.3589 - val_accuracy: 0.8434\n",
            "Epoch 37/40\n",
            "145/145 [==============================] - 89s 617ms/step - loss: 0.2765 - accuracy: 0.8918 - val_loss: 0.3786 - val_accuracy: 0.8354\n",
            "Epoch 38/40\n",
            "145/145 [==============================] - 88s 613ms/step - loss: 0.2708 - accuracy: 0.8985 - val_loss: 0.4029 - val_accuracy: 0.8381\n",
            "Epoch 39/40\n",
            "145/145 [==============================] - 86s 599ms/step - loss: 0.2752 - accuracy: 0.8963 - val_loss: 0.3546 - val_accuracy: 0.8469\n",
            "Epoch 40/40\n",
            "145/145 [==============================] - 87s 606ms/step - loss: 0.2628 - accuracy: 0.8985 - val_loss: 0.3504 - val_accuracy: 0.8513\n"
          ],
          "name": "stdout"
        }
      ]
    },
    {
      "cell_type": "code",
      "metadata": {
        "id": "zGwsMlEJozBs"
      },
      "source": [
        "acc += history1.history['accuracy']\n",
        "val_acc += history1.history['val_accuracy']\n",
        "\n",
        "loss += history1.history['loss']\n",
        "val_loss += history1.history['val_loss']"
      ],
      "execution_count": null,
      "outputs": []
    },
    {
      "cell_type": "code",
      "metadata": {
        "colab": {
          "base_uri": "https://localhost:8080/",
          "height": 513
        },
        "id": "ePvOHuqKmGJt",
        "outputId": "4d6112a0-50a0-401e-fa60-6bc965b42608"
      },
      "source": [
        "\n",
        "\n",
        "plt.figure(figsize=(8, 8))\n",
        "plt.subplot(2, 1, 1)\n",
        "plt.plot(acc, label='Training Accuracy')\n",
        "plt.plot(val_acc, label='Validation Accuracy')\n",
        "plt.legend(loc='lower right')\n",
        "plt.ylabel('Accuracy')\n",
        "plt.ylim([min(plt.ylim()),1])\n",
        "plt.title('Training and Validation Accuracy')\n",
        "\n",
        "plt.subplot(2, 1, 2)\n",
        "plt.plot(loss, label='Training Loss')\n",
        "plt.plot(val_loss, label='Validation Loss')\n",
        "plt.legend(loc='upper right')\n",
        "plt.ylabel('Cross Entropy')\n",
        "plt.ylim([0,1.0])\n",
        "plt.title('Training and Validation Loss')\n",
        "plt.xlabel('epoch')\n",
        "plt.show()"
      ],
      "execution_count": null,
      "outputs": [
        {
          "output_type": "display_data",
          "data": {
            "image/png": "[encoded data removed]",
            "text/plain": [
              "<Figure size 576x576 with 2 Axes>"
            ]
          },
          "metadata": {
            "tags": [],
            "needs_background": "light"
          }
        }
      ]
    },
    {
      "cell_type": "code",
      "metadata": {
        "colab": {
          "base_uri": "https://localhost:8080/"
        },
        "id": "45RexYCYmHB_",
        "outputId": "177c3d75-2d94-4001-8a67-e674c5b66788"
      },
      "source": [
        "# Let's take a look to see how many layers are in the base model\n",
        "print(\"Number of layers in the base model: \", len(base_model.layers))\n",
        "\n",
        "# Fine-tune from this layer onwards\n",
        "fine_tune_at = 100\n",
        "\n",
        "# Freeze all the layers before the `fine_tune_at` layer\n",
        "for layer in base_model.layers[:fine_tune_at]:\n",
        "  layer.trainable =  False"
      ],
      "execution_count": null,
      "outputs": [
        {
          "output_type": "stream",
          "text": [
            "Number of layers in the base model:  154\n"
          ],
          "name": "stdout"
        }
      ]
    },
    {
      "cell_type": "code",
      "metadata": {
        "colab": {
          "base_uri": "https://localhost:8080/"
        },
        "id": "SeK-wO79mJeG",
        "outputId": "1fc7b8cf-0b41-4213-c370-3ce5dbf86d14"
      },
      "source": [
        "model.compile(loss=tf.keras.losses.BinaryCrossentropy(from_logits=False),\n",
        "              optimizer = tf.keras.optimizers.RMSprop(lr=base_learning_rate/10),\n",
        "              metrics=['accuracy'])"
      ],
      "execution_count": null,
      "outputs": [
        {
          "output_type": "stream",
          "text": [
            "/usr/local/lib/python3.7/dist-packages/tensorflow/python/keras/optimizer_v2/optimizer_v2.py:375: UserWarning: The `lr` argument is deprecated, use `learning_rate` instead.\n",
            "  \"The `lr` argument is deprecated, use `learning_rate` instead.\")\n"
          ],
          "name": "stderr"
        }
      ]
    },
    {
      "cell_type": "code",
      "metadata": {
        "colab": {
          "base_uri": "https://localhost:8080/"
        },
        "id": "YwjAvxpumLpO",
        "outputId": "67740123-93f3-4297-c2c7-c4a47c8fae57"
      },
      "source": [
        "model.summary()"
      ],
      "execution_count": null,
      "outputs": [
        {
          "output_type": "stream",
          "text": [
            "Model: \"sequential\"\n",
            "_________________________________________________________________\n",
            "Layer (type)                 Output Shape              Param #   \n",
            "=================================================================\n",
            "mobilenetv2_1.00_224 (Functi (None, 8, 8, 1280)        2257984   \n",
            "_________________________________________________________________\n",
            "global_average_pooling2d (Gl (None, 1280)              0         \n",
            "_________________________________________________________________\n",
            "dense (Dense)                (None, 2)                 2562      \n",
            "=================================================================\n",
            "Total params: 2,260,546\n",
            "Trainable params: 2,562\n",
            "Non-trainable params: 2,257,984\n",
            "_________________________________________________________________\n"
          ],
          "name": "stdout"
        }
      ]
    },
    {
      "cell_type": "code",
      "metadata": {
        "colab": {
          "base_uri": "https://localhost:8080/"
        },
        "id": "LUcpyRXrmOyZ",
        "outputId": "128ff66e-519b-42be-a67f-b673ab95d687"
      },
      "source": [
        "len(model.trainable_variables)"
      ],
      "execution_count": null,
      "outputs": [
        {
          "output_type": "execute_result",
          "data": {
            "text/plain": [
              "2"
            ]
          },
          "metadata": {
            "tags": []
          },
          "execution_count": 41
        }
      ]
    },
    {
      "cell_type": "code",
      "metadata": {
        "colab": {
          "base_uri": "https://localhost:8080/"
        },
        "id": "AizwEk57mQAl",
        "outputId": "3993d805-ec83-45ba-8278-d7cfadb74851"
      },
      "source": [
        "\n",
        "STEP_SIZE_TRAIN=train_batches.n//train_batches.batch_size\n",
        "STEP_SIZE_VALID=validation_batches.n//validation_batches.batch_size\n",
        "\n",
        "fine_tune_epochs = 50\n",
        "total_epochs =  initial_epochs+40 + fine_tune_epochs\n",
        "\n",
        "history_fine = model.fit(train_batches,\n",
        "                         epochs=total_epochs,\n",
        "                         initial_epoch =  history.epoch[-1]+ history1.epoch[-1],\n",
        "                         validation_data=validation_batches,\n",
        "                         steps_per_epoch =STEP_SIZE_TRAIN,\n",
        "    validation_steps = STEP_SIZE_VALID)"
      ],
      "execution_count": null,
      "outputs": [
        {
          "output_type": "stream",
          "text": [
            "/usr/local/lib/python3.7/dist-packages/keras_preprocessing/image/image_data_generator.py:720: UserWarning: This ImageDataGenerator specifies `featurewise_center`, but it hasn't been fit on any training data. Fit it first by calling `.fit(numpy_data)`.\n",
            "  warnings.warn('This ImageDataGenerator specifies '\n",
            "/usr/local/lib/python3.7/dist-packages/keras_preprocessing/image/image_data_generator.py:739: UserWarning: This ImageDataGenerator specifies `zca_whitening`, but it hasn't been fit on any training data. Fit it first by calling `.fit(numpy_data)`.\n",
            "  warnings.warn('This ImageDataGenerator specifies '\n"
          ],
          "name": "stderr"
        },
        {
          "output_type": "stream",
          "text": [
            "Epoch 49/100\n",
            "145/145 [==============================] - 90s 626ms/step - loss: 0.2790 - accuracy: 0.8918 - val_loss: 0.3833 - val_accuracy: 0.8460\n",
            "Epoch 50/100\n",
            "145/145 [==============================] - 89s 617ms/step - loss: 0.2586 - accuracy: 0.9006 - val_loss: 0.3821 - val_accuracy: 0.8372\n",
            "Epoch 51/100\n",
            "145/145 [==============================] - 87s 603ms/step - loss: 0.2744 - accuracy: 0.8948 - val_loss: 0.3996 - val_accuracy: 0.8212\n",
            "Epoch 52/100\n",
            "145/145 [==============================] - 88s 612ms/step - loss: 0.2666 - accuracy: 0.8950 - val_loss: 0.3526 - val_accuracy: 0.8593\n",
            "Epoch 53/100\n",
            "145/145 [==============================] - 88s 608ms/step - loss: 0.2688 - accuracy: 0.8952 - val_loss: 0.3849 - val_accuracy: 0.8372\n",
            "Epoch 54/100\n",
            "145/145 [==============================] - 89s 615ms/step - loss: 0.2712 - accuracy: 0.8972 - val_loss: 0.3809 - val_accuracy: 0.8381\n",
            "Epoch 55/100\n",
            "145/145 [==============================] - 88s 610ms/step - loss: 0.2740 - accuracy: 0.8941 - val_loss: 0.3825 - val_accuracy: 0.8274\n",
            "Epoch 56/100\n",
            "145/145 [==============================] - 89s 614ms/step - loss: 0.2758 - accuracy: 0.8961 - val_loss: 0.3638 - val_accuracy: 0.8442\n",
            "Epoch 57/100\n",
            "145/145 [==============================] - 90s 625ms/step - loss: 0.2757 - accuracy: 0.8943 - val_loss: 0.3629 - val_accuracy: 0.8425\n",
            "Epoch 58/100\n",
            "145/145 [==============================] - 91s 628ms/step - loss: 0.2662 - accuracy: 0.8961 - val_loss: 0.3499 - val_accuracy: 0.8628\n",
            "Epoch 59/100\n",
            "145/145 [==============================] - 89s 614ms/step - loss: 0.2796 - accuracy: 0.8941 - val_loss: 0.3466 - val_accuracy: 0.8469\n",
            "Epoch 60/100\n",
            "145/145 [==============================] - 89s 616ms/step - loss: 0.2691 - accuracy: 0.8976 - val_loss: 0.3728 - val_accuracy: 0.8372\n",
            "Epoch 61/100\n",
            "145/145 [==============================] - 89s 619ms/step - loss: 0.2632 - accuracy: 0.9002 - val_loss: 0.3600 - val_accuracy: 0.8469\n",
            "Epoch 62/100\n",
            "145/145 [==============================] - 89s 619ms/step - loss: 0.2619 - accuracy: 0.9017 - val_loss: 0.3684 - val_accuracy: 0.8416\n",
            "Epoch 63/100\n",
            "145/145 [==============================] - 88s 612ms/step - loss: 0.2779 - accuracy: 0.8972 - val_loss: 0.3503 - val_accuracy: 0.8566\n",
            "Epoch 64/100\n",
            "145/145 [==============================] - 88s 608ms/step - loss: 0.2731 - accuracy: 0.8961 - val_loss: 0.3431 - val_accuracy: 0.8699\n",
            "Epoch 65/100\n",
            "145/145 [==============================] - 92s 635ms/step - loss: 0.2653 - accuracy: 0.9006 - val_loss: 0.3764 - val_accuracy: 0.8336\n",
            "Epoch 66/100\n",
            "145/145 [==============================] - 88s 612ms/step - loss: 0.2610 - accuracy: 0.8980 - val_loss: 0.3775 - val_accuracy: 0.8354\n",
            "Epoch 67/100\n",
            "145/145 [==============================] - 89s 618ms/step - loss: 0.2772 - accuracy: 0.8954 - val_loss: 0.3948 - val_accuracy: 0.8257\n",
            "Epoch 68/100\n",
            "145/145 [==============================] - 90s 622ms/step - loss: 0.2686 - accuracy: 0.8987 - val_loss: 0.3511 - val_accuracy: 0.8372\n",
            "Epoch 69/100\n",
            "145/145 [==============================] - 89s 619ms/step - loss: 0.2802 - accuracy: 0.8961 - val_loss: 0.3704 - val_accuracy: 0.8354\n",
            "Epoch 70/100\n",
            "145/145 [==============================] - 88s 608ms/step - loss: 0.2716 - accuracy: 0.8952 - val_loss: 0.3648 - val_accuracy: 0.8416\n",
            "Epoch 71/100\n",
            "145/145 [==============================] - 88s 613ms/step - loss: 0.2710 - accuracy: 0.8982 - val_loss: 0.3679 - val_accuracy: 0.8504\n",
            "Epoch 72/100\n",
            "145/145 [==============================] - 88s 611ms/step - loss: 0.2729 - accuracy: 0.8969 - val_loss: 0.3720 - val_accuracy: 0.8354\n",
            "Epoch 73/100\n",
            "145/145 [==============================] - 88s 611ms/step - loss: 0.2609 - accuracy: 0.9043 - val_loss: 0.3678 - val_accuracy: 0.8434\n",
            "Epoch 74/100\n",
            "145/145 [==============================] - 87s 603ms/step - loss: 0.2785 - accuracy: 0.8950 - val_loss: 0.3758 - val_accuracy: 0.8522\n",
            "Epoch 75/100\n",
            "145/145 [==============================] - 88s 609ms/step - loss: 0.2771 - accuracy: 0.8948 - val_loss: 0.3521 - val_accuracy: 0.8496\n",
            "Epoch 76/100\n",
            "145/145 [==============================] - 88s 613ms/step - loss: 0.2637 - accuracy: 0.8976 - val_loss: 0.3544 - val_accuracy: 0.8655\n",
            "Epoch 77/100\n",
            "145/145 [==============================] - 89s 616ms/step - loss: 0.2750 - accuracy: 0.8950 - val_loss: 0.3853 - val_accuracy: 0.8416\n",
            "Epoch 78/100\n",
            "145/145 [==============================] - 89s 617ms/step - loss: 0.2784 - accuracy: 0.8900 - val_loss: 0.3455 - val_accuracy: 0.8575\n",
            "Epoch 79/100\n",
            "145/145 [==============================] - 87s 604ms/step - loss: 0.2674 - accuracy: 0.8931 - val_loss: 0.3996 - val_accuracy: 0.8310\n",
            "Epoch 80/100\n",
            "145/145 [==============================] - 89s 618ms/step - loss: 0.2735 - accuracy: 0.8915 - val_loss: 0.3637 - val_accuracy: 0.8504\n",
            "Epoch 81/100\n",
            "145/145 [==============================] - 88s 611ms/step - loss: 0.2614 - accuracy: 0.8978 - val_loss: 0.3707 - val_accuracy: 0.8416\n",
            "Epoch 82/100\n",
            "145/145 [==============================] - 89s 615ms/step - loss: 0.2688 - accuracy: 0.8954 - val_loss: 0.3650 - val_accuracy: 0.8487\n",
            "Epoch 83/100\n",
            "145/145 [==============================] - 88s 610ms/step - loss: 0.2603 - accuracy: 0.9004 - val_loss: 0.3757 - val_accuracy: 0.8398\n",
            "Epoch 84/100\n",
            "145/145 [==============================] - 89s 617ms/step - loss: 0.2736 - accuracy: 0.8943 - val_loss: 0.3726 - val_accuracy: 0.8257\n",
            "Epoch 85/100\n",
            "145/145 [==============================] - 87s 607ms/step - loss: 0.2638 - accuracy: 0.9006 - val_loss: 0.3411 - val_accuracy: 0.8513\n",
            "Epoch 86/100\n",
            "145/145 [==============================] - 88s 611ms/step - loss: 0.2596 - accuracy: 0.9032 - val_loss: 0.3877 - val_accuracy: 0.8389\n",
            "Epoch 87/100\n",
            "145/145 [==============================] - 87s 606ms/step - loss: 0.2671 - accuracy: 0.8991 - val_loss: 0.3753 - val_accuracy: 0.8451\n",
            "Epoch 88/100\n",
            "145/145 [==============================] - 88s 609ms/step - loss: 0.2652 - accuracy: 0.8991 - val_loss: 0.3632 - val_accuracy: 0.8478\n",
            "Epoch 89/100\n",
            "145/145 [==============================] - 87s 600ms/step - loss: 0.2707 - accuracy: 0.8956 - val_loss: 0.3472 - val_accuracy: 0.8460\n",
            "Epoch 90/100\n",
            "145/145 [==============================] - 87s 603ms/step - loss: 0.2643 - accuracy: 0.8998 - val_loss: 0.4069 - val_accuracy: 0.8168\n",
            "Epoch 91/100\n",
            "145/145 [==============================] - 88s 609ms/step - loss: 0.2699 - accuracy: 0.8989 - val_loss: 0.3644 - val_accuracy: 0.8531\n",
            "Epoch 92/100\n",
            "145/145 [==============================] - 88s 608ms/step - loss: 0.2668 - accuracy: 0.8952 - val_loss: 0.3693 - val_accuracy: 0.8425\n",
            "Epoch 93/100\n",
            "145/145 [==============================] - 86s 598ms/step - loss: 0.2737 - accuracy: 0.8954 - val_loss: 0.3778 - val_accuracy: 0.8425\n",
            "Epoch 94/100\n",
            "145/145 [==============================] - 86s 594ms/step - loss: 0.2741 - accuracy: 0.8969 - val_loss: 0.3578 - val_accuracy: 0.8496\n",
            "Epoch 95/100\n",
            "145/145 [==============================] - 87s 605ms/step - loss: 0.2651 - accuracy: 0.8967 - val_loss: 0.3537 - val_accuracy: 0.8434\n",
            "Epoch 96/100\n",
            "145/145 [==============================] - 85s 592ms/step - loss: 0.2741 - accuracy: 0.8915 - val_loss: 0.3500 - val_accuracy: 0.8513\n",
            "Epoch 97/100\n",
            "145/145 [==============================] - 88s 611ms/step - loss: 0.2737 - accuracy: 0.8935 - val_loss: 0.3890 - val_accuracy: 0.8381\n",
            "Epoch 98/100\n",
            "145/145 [==============================] - 87s 603ms/step - loss: 0.2727 - accuracy: 0.8952 - val_loss: 0.3729 - val_accuracy: 0.8434\n",
            "Epoch 99/100\n",
            "145/145 [==============================] - 87s 605ms/step - loss: 0.2704 - accuracy: 0.8993 - val_loss: 0.3636 - val_accuracy: 0.8513\n",
            "Epoch 100/100\n",
            "145/145 [==============================] - 89s 619ms/step - loss: 0.2633 - accuracy: 0.9015 - val_loss: 0.3674 - val_accuracy: 0.8451\n"
          ],
          "name": "stdout"
        }
      ]
    },
    {
      "cell_type": "code",
      "metadata": {
        "id": "omM5nkKwmYCc"
      },
      "source": [
        "acc += history_fine.history['accuracy']\n",
        "val_acc += history_fine.history['val_accuracy']\n",
        "\n",
        "loss += history_fine.history['loss']\n",
        "val_loss += history_fine.history['val_loss']"
      ],
      "execution_count": null,
      "outputs": []
    },
    {
      "cell_type": "code",
      "metadata": {
        "colab": {
          "base_uri": "https://localhost:8080/",
          "height": 513
        },
        "id": "MoA1b8HfmZtg",
        "outputId": "e7807f1b-9cbf-474b-9938-aa2b5ec4bfe4"
      },
      "source": [
        "plt.figure(figsize=(8, 8))\n",
        "plt.subplot(2, 1, 1)\n",
        "plt.plot(acc, label='Training Accuracy')\n",
        "plt.plot(val_acc, label='Validation Accuracy')\n",
        "plt.ylim([0.8, 1])\n",
        "plt.plot([initial_epochs-1+40,initial_epochs-1+40],\n",
        "          plt.ylim(), label='Start Fine Tuning')\n",
        "plt.legend(loc='lower right')\n",
        "plt.title('Training and Validation Accuracy')\n",
        "\n",
        "plt.subplot(2, 1, 2)\n",
        "plt.plot(loss, label='Training Loss')\n",
        "plt.plot(val_loss, label='Validation Loss')\n",
        "plt.ylim([0, 1.0])\n",
        "plt.plot([initial_epochs-1+40,initial_epochs-1+40],\n",
        "         plt.ylim(), label='Start Fine Tuning')\n",
        "plt.legend(loc='upper right')\n",
        "plt.title('Training and Validation Loss')\n",
        "plt.xlabel('epoch')\n",
        "plt.show()"
      ],
      "execution_count": null,
      "outputs": [
        {
          "output_type": "display_data",
          "data": {
            "image/png": "[encoded data removed]",
            "text/plain": [
              "<Figure size 576x576 with 2 Axes>"
            ]
          },
          "metadata": {
            "tags": [],
            "needs_background": "light"
          }
        }
      ]
    },
    {
      "cell_type": "code",
      "metadata": {
        "colab": {
          "base_uri": "https://localhost:8080/"
        },
        "id": "YY1ha9PGmbPK",
        "outputId": "908968cf-271d-4db5-adc9-e43850f8bb03"
      },
      "source": [
        "model.save('/content/Places2/Places2/placesMobilnet.h5')"
      ],
      "execution_count": null,
      "outputs": [
        {
          "output_type": "stream",
          "text": [
            "/usr/local/lib/python3.7/dist-packages/keras/utils/generic_utils.py:497: CustomMaskWarning: Custom mask layers require a config and must override get_config. When loading, the custom mask layer must be passed to the custom_objects argument.\n",
            "  category=CustomMaskWarning)\n"
          ],
          "name": "stderr"
        }
      ]
    },
    {
      "cell_type": "code",
      "metadata": {
        "id": "SLxIYDLLK7fb"
      },
      "source": [
        "model.save_weights(filepath='/content/Places2/Places2/newfinal_weightVGGplaces.hdf5')"
      ],
      "execution_count": null,
      "outputs": []
    },
    {
      "cell_type": "code",
      "metadata": {
        "colab": {
          "base_uri": "https://localhost:8080/"
        },
        "id": "014kGSMNmmYP",
        "outputId": "a965846f-5923-40af-a6f0-cc57a2a0be06"
      },
      "source": [
        "test_datagen = ImageDataGenerator(rescale=1. / 255)\n",
        "\n",
        "eval_generator = test_datagen.flow_from_directory(\n",
        "        test_dir,target_size=IMAGE_SIZE,\n",
        "        batch_size=1,\n",
        "        shuffle=False,\n",
        "        seed=42,\n",
        "        \n",
        "        \n",
        "        class_mode=\"categorical\")\n",
        "eval_generator.reset()"
      ],
      "execution_count": null,
      "outputs": [
        {
          "output_type": "stream",
          "text": [
            "Found 1454 images belonging to 2 classes.\n"
          ],
          "name": "stdout"
        }
      ]
    },
    {
      "cell_type": "code",
      "metadata": {
        "colab": {
          "base_uri": "https://localhost:8080/"
        },
        "id": "6sSb06Qxmdpv",
        "outputId": "5ca90a38-1ce2-47cb-c70d-66b7071eb16e"
      },
      "source": [
        "eval_generator.reset()  \n",
        "x = model.evaluate(eval_generator,  \n",
        "                           steps = np.ceil(len(eval_generator) / 32),\n",
        "                           use_multiprocessing = False,\n",
        "                           verbose = 1,\n",
        "                           workers=1\n",
        "                   )\n",
        "\n",
        "\n",
        "print('Test loss:' , x[0])\n",
        "print('Test accuracy:',x[1])"
      ],
      "execution_count": null,
      "outputs": [
        {
          "output_type": "stream",
          "text": [
            "46/46 [==============================] - 1s 8ms/step - loss: 0.3584 - accuracy: 0.8696\n",
            "Test loss: 0.3583948314189911\n",
            "Test accuracy: 0.8695651888847351\n"
          ],
          "name": "stdout"
        }
      ]
    },
    {
      "cell_type": "code",
      "metadata": {
        "colab": {
          "base_uri": "https://localhost:8080/"
        },
        "id": "K3y1c13qmhEO",
        "outputId": "a39a80c9-c264-45cd-d5a6-f3086ee1644c"
      },
      "source": [
        "preds = model.evaluate(eval_generator,batch_size=1,steps = np.ceil(len(eval_generator) / 1),\n",
        "                           use_multiprocessing = False,\n",
        "                           verbose = 1,\n",
        "                           workers=1)\n",
        "print (\"Validation Loss = \" + str(preds[0]))\n",
        "print (\"Validation Accuracy = \" + str(preds[1]))"
      ],
      "execution_count": null,
      "outputs": [
        {
          "output_type": "stream",
          "text": [
            "1454/1454 [==============================] - 11s 8ms/step - loss: 0.2657 - accuracy: 0.8982\n",
            "Validation Loss = 0.26572421193122864\n",
            "Validation Accuracy = 0.8982118368148804\n"
          ],
          "name": "stdout"
        }
      ]
    },
    {
      "cell_type": "code",
      "metadata": {
        "colab": {
          "base_uri": "https://localhost:8080/"
        },
        "id": "8KZ-MWosm_2Z",
        "outputId": "0640e4b1-0d31-4365-9fe2-fe3f10ea55ed"
      },
      "source": [
        "eval_generator.reset()  \n",
        "pred = model.predict(eval_generator,steps = np.ceil(len(eval_generator) / 1),\n",
        "                           use_multiprocessing = False,\n",
        "                           verbose = 1,\n",
        "                           workers=1)\n",
        "print(\"Predictions finished\")"
      ],
      "execution_count": null,
      "outputs": [
        {
          "output_type": "stream",
          "text": [
            "1454/1454 [==============================] - 13s 7ms/step\n",
            "Predictions finished\n"
          ],
          "name": "stdout"
        }
      ]
    },
    {
      "cell_type": "code",
      "metadata": {
        "colab": {
          "base_uri": "https://localhost:8080/"
        },
        "id": "D0Q6eSQlnBR7",
        "outputId": "0d4d036a-3ec8-4754-b381-7993991bbb5e"
      },
      "source": [
        "print(pred)"
      ],
      "execution_count": null,
      "outputs": [
        {
          "output_type": "stream",
          "text": [
            "[[8.9510965e-01 1.0489029e-01]\n",
            " [9.9906629e-01 9.3369622e-04]\n",
            " [9.9971837e-01 2.8166486e-04]\n",
            " ...\n",
            " [2.6829261e-02 9.7317070e-01]\n",
            " [2.3521809e-03 9.9764782e-01]\n",
            " [1.0400147e-04 9.9989593e-01]]\n"
          ],
          "name": "stdout"
        }
      ]
    },
    {
      "cell_type": "code",
      "metadata": {
        "id": "L3D-71OanCWc"
      },
      "source": [
        "pred_labels = np.argmax(pred, axis = 1)"
      ],
      "execution_count": null,
      "outputs": []
    },
    {
      "cell_type": "code",
      "metadata": {
        "colab": {
          "base_uri": "https://localhost:8080/"
        },
        "id": "8nxqLXgMnDsb",
        "outputId": "24e1ffe3-1c56-4fe5-cde5-3c7685be91b5"
      },
      "source": [
        "len(eval_generator.classes)"
      ],
      "execution_count": null,
      "outputs": [
        {
          "output_type": "execute_result",
          "data": {
            "text/plain": [
              "1454"
            ]
          },
          "metadata": {
            "tags": []
          },
          "execution_count": 59
        }
      ]
    },
    {
      "cell_type": "code",
      "metadata": {
        "colab": {
          "base_uri": "https://localhost:8080/"
        },
        "id": "-u2FBnkFnE6F",
        "outputId": "b4f4aee8-6852-4bfb-ceb6-7114b9507919"
      },
      "source": [
        "len(pred_labels)"
      ],
      "execution_count": null,
      "outputs": [
        {
          "output_type": "execute_result",
          "data": {
            "text/plain": [
              "1454"
            ]
          },
          "metadata": {
            "tags": []
          },
          "execution_count": 60
        }
      ]
    },
    {
      "cell_type": "code",
      "metadata": {
        "id": "_K9xow4inGE2"
      },
      "source": [
        "from sklearn.metrics import confusion_matrix, classification_report"
      ],
      "execution_count": null,
      "outputs": []
    },
    {
      "cell_type": "code",
      "metadata": {
        "colab": {
          "base_uri": "https://localhost:8080/"
        },
        "id": "aOcgzhEqnH1W",
        "outputId": "0fc900de-fb3e-48bb-ee16-700a612c1f00"
      },
      "source": [
        "print(classification_report(eval_generator.classes, pred_labels))"
      ],
      "execution_count": null,
      "outputs": [
        {
          "output_type": "stream",
          "text": [
            "              precision    recall  f1-score   support\n",
            "\n",
            "           0       0.92      0.86      0.89       702\n",
            "           1       0.88      0.93      0.90       752\n",
            "\n",
            "    accuracy                           0.90      1454\n",
            "   macro avg       0.90      0.90      0.90      1454\n",
            "weighted avg       0.90      0.90      0.90      1454\n",
            "\n"
          ],
          "name": "stdout"
        }
      ]
    },
    {
      "cell_type": "code",
      "metadata": {
        "colab": {
          "base_uri": "https://localhost:8080/"
        },
        "id": "ZUqzsbUUnKWI",
        "outputId": "b8dfc055-d645-4bef-de94-05b889a5cfeb"
      },
      "source": [
        "from keras.models import load_model\n",
        "from keras.preprocessing import image\n",
        "import matplotlib.pyplot as plt\n",
        "import numpy as np\n",
        "import os\n",
        "\n",
        "\n",
        "def load_image(img_path, show=False):\n",
        "\n",
        "    img = image.load_img(img_path, target_size=(256, 256))\n",
        "    img_tensor = image.img_to_array(img)                    # (height, width, channels)\n",
        "    img_tensor = np.expand_dims(img_tensor, axis=0)         # (1, height, width, channels), add a dimension because the model expects this shape: (batch_size, height, width, channels)\n",
        "    img_tensor /= 255.                                      # imshow expects values in the range [0, 1]\n",
        "\n",
        "    if show:\n",
        "        plt.imshow(img_tensor[0])                           \n",
        "        plt.axis('off')\n",
        "        plt.show()\n",
        "\n",
        "    return img_tensor\n",
        "\n",
        "\n",
        "if __name__ == \"__main__\":\n",
        "\n",
        "    # load model\n",
        "    model = load_model(\"/content/Places2/Places2/placesMobilnet.h5\")\n",
        "\n",
        "    # image path\n",
        "    #img_path = '/content/Places2/Places2/val/indoor/00000003 (3).jpg'   \n",
        "    img_path = '/content/Places2/Places2/test/indoor/00000014 (2).jpg'     \n",
        "\n",
        "    # load a single image\n",
        "    new_image = load_image(img_path)\n",
        "\n",
        "    # check prediction\n",
        "    pred = model.predict_classes(new_image)\n",
        "\n",
        "if pred==0:\n",
        "  print(\"indoor\")\n",
        "else:\n",
        "  print(\"outdoor\")"
      ],
      "execution_count": null,
      "outputs": [
        {
          "output_type": "stream",
          "text": [
            "/usr/local/lib/python3.7/dist-packages/keras/engine/sequential.py:450: UserWarning: `model.predict_classes()` is deprecated and will be removed after 2021-01-01. Please use instead:* `np.argmax(model.predict(x), axis=-1)`,   if your model does multi-class classification   (e.g. if it uses a `softmax` last-layer activation).* `(model.predict(x) > 0.5).astype(\"int32\")`,   if your model does binary classification   (e.g. if it uses a `sigmoid` last-layer activation).\n",
            "  warnings.warn('`model.predict_classes()` is deprecated and '\n"
          ],
          "name": "stderr"
        },
        {
          "output_type": "stream",
          "text": [
            "indoor\n"
          ],
          "name": "stdout"
        }
      ]
    }
  ]
}