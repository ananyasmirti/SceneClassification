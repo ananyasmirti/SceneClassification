{
  "nbformat": 4,
  "nbformat_minor": 0,
  "metadata": {
    "colab": {
      "name": "MobilenetV2.ipynb",
      "provenance": []
    },
    "kernelspec": {
      "name": "python3",
      "display_name": "Python 3"
    },
    "language_info": {
      "name": "python"
    },
    "accelerator": "TPU"
  },
  "cells": [
    {
      "cell_type": "code",
      "metadata": {
        "colab": {
          "base_uri": "https://localhost:8080/"
        },
        "id": "s9o0ppA8Tndp",
        "outputId": "162cf0dc-6d41-4242-9816-1780ed85abd3"
      },
      "source": [
        "from google.colab import drive \n",
        "drive.mount('/content/drive')"
      ],
      "execution_count": null,
      "outputs": [
        {
          "output_type": "stream",
          "text": [
            "Mounted at /content/drive\n"
          ],
          "name": "stdout"
        }
      ]
    },
    {
      "cell_type": "code",
      "metadata": {
        "id": "MHoxIIVtl0Vn"
      },
      "source": [
        "!mkdir Places2"
      ],
      "execution_count": null,
      "outputs": []
    },
    {
      "cell_type": "code",
      "metadata": {
        "id": "dsfi-yR6l2m1"
      },
      "source": [
        "import shutil \n",
        "shutil.unpack_archive(\"drive/MyDrive/Places2.zip\", \"Places2/\")"
      ],
      "execution_count": null,
      "outputs": []
    },
    {
      "cell_type": "code",
      "metadata": {
        "id": "sIHQ6qUCTw0N"
      },
      "source": [
        "from __future__ import absolute_import, division, print_function, unicode_literals\n",
        "\n",
        "import os\n",
        "\n",
        "import numpy as np\n",
        "\n",
        "import matplotlib.pyplot as plt\n",
        "\n",
        "import pathlib"
      ],
      "execution_count": null,
      "outputs": []
    },
    {
      "cell_type": "code",
      "metadata": {
        "id": "jOKuSC1DTybV"
      },
      "source": [
        "\n",
        "try:\n",
        "  # %tensorflow_version only exists in Colab.\n",
        "  %tensorflow_version 2.x\n",
        "except Exception:\n",
        "  pass\n",
        "import tensorflow as tf\n",
        "\n",
        "keras = tf.keras"
      ],
      "execution_count": null,
      "outputs": []
    },
    {
      "cell_type": "code",
      "metadata": {
        "id": "toSj_4LgTzwT"
      },
      "source": [
        "# Set the data dirs \n",
        "\n",
        "train_data_dir = '/content/Places2/Places2/train'  \n",
        "validate_data_dir = '/content/Places2/Places2/val' \n",
        "test_data_dir = '/content/Places2/Places2/test'\n",
        "\n",
        "AUTOTUNE = tf.data.experimental.AUTOTUNE"
      ],
      "execution_count": null,
      "outputs": []
    },
    {
      "cell_type": "code",
      "metadata": {
        "colab": {
          "base_uri": "https://localhost:8080/"
        },
        "id": "whsEGdZsXk-K",
        "outputId": "29db2a7e-2d40-4c9c-8e77-5f67c1e3e497"
      },
      "source": [
        "IMG_HEIGHT = 256\n",
        "IMG_WIDTH = 256\n",
        "\n",
        "train_data_dir = pathlib.Path(train_data_dir)\n",
        "validate_data_dir = pathlib.Path(validate_data_dir)\n",
        "test_data_dir = pathlib.Path(test_data_dir)\n",
        "\n",
        "train_image_count = len(list(train_data_dir.glob('*/*.*')))\n",
        "validate_image_count = len(list(validate_data_dir.glob('*/*.*')))\n",
        "test_image_count = len(list(test_data_dir.glob('*/*.*')))\n",
        "\n",
        "\n",
        "CLASS_NAMES = np.array([item.name for item in train_data_dir.glob('*')])\n",
        "CLASS_NAMES\n",
        " \n",
        "\n",
        "train_list_ds = tf.data.Dataset.list_files(str(train_data_dir/'*/*'))\n",
        "validate_list_ds = tf.data.Dataset.list_files(str(validate_data_dir/'*/*'))\n",
        "test_list_ds = tf.data.Dataset.list_files(str(test_data_dir/'*/*'))\n",
        "\n",
        "for f in train_list_ds.take(5):\n",
        "  print(f.numpy())\n",
        "\n",
        "\n",
        "def get_label(file_path):\n",
        "  # convert the path to a list of path components\n",
        "  parts = tf.strings.split(file_path, os.path.sep)\n",
        "  return parts[-2] == CLASS_NAMES\n",
        "\n",
        "def decode_img(img):\n",
        "  # convert the compressed string to a 3D uint8 tensor\n",
        "  img = tf.image.decode_jpeg(img, channels=3)\n",
        "  # Use `convert_image_dtype` to convert to floats in the [0,1] range.\n",
        "  img = tf.image.convert_image_dtype(img, tf.float32)\n",
        "  # resize the image to the desired size.\n",
        "  return tf.image.resize(img, [IMG_WIDTH, IMG_HEIGHT])\n",
        "\n",
        "def process_path(file_path):\n",
        "  label = get_label(file_path)\n",
        "  img = tf.io.read_file(file_path)\n",
        "  img = decode_img(img)\n",
        "  return img, label\n",
        "\n",
        "\n",
        "# prepare the dataset with the labels and image as features\n",
        "#Apply this function to each item in the dataset using the map method:\n",
        "train = train_list_ds.map(process_path)\n",
        "validation = validate_list_ds.map(process_path)\n",
        "test = test_list_ds.map(process_path)"
      ],
      "execution_count": null,
      "outputs": [
        {
          "output_type": "stream",
          "text": [
            "b'/content/Places2/Places2/train/outdoor/00000894.jpg'\n",
            "b'/content/Places2/Places2/train/outdoor/00003695.jpg'\n",
            "b'/content/Places2/Places2/train/outdoor/00000259.jpg'\n",
            "b'/content/Places2/Places2/train/indoor/00003015.jpg'\n",
            "b'/content/Places2/Places2/train/indoor/00000025 (10).jpg'\n"
          ],
          "name": "stdout"
        }
      ]
    },
    {
      "cell_type": "code",
      "metadata": {
        "id": "zUBRQFNRXlaH"
      },
      "source": [
        "IMG_SIZE = 256\n",
        "BATCH_SIZE = 32\n",
        "SHUFFLE_BUFFER_SIZE = 1000"
      ],
      "execution_count": null,
      "outputs": []
    },
    {
      "cell_type": "code",
      "metadata": {
        "id": "aDOKtiSEXnW-"
      },
      "source": [
        "train_batches = train.shuffle(SHUFFLE_BUFFER_SIZE).batch(BATCH_SIZE)\n",
        "validation_batches = validation.batch(BATCH_SIZE)\n",
        "test_batches = test.batch(BATCH_SIZE)"
      ],
      "execution_count": null,
      "outputs": []
    },
    {
      "cell_type": "code",
      "metadata": {
        "colab": {
          "base_uri": "https://localhost:8080/"
        },
        "id": "Nh-1xxw0XohL",
        "outputId": "ae08ca20-d29e-4e86-e5e2-48667ec82fb8"
      },
      "source": [
        "for image_batch, label_batch in train_batches.take(1):\n",
        "   pass\n",
        "\n",
        "image_batch.shape"
      ],
      "execution_count": null,
      "outputs": [
        {
          "output_type": "execute_result",
          "data": {
            "text/plain": [
              "TensorShape([32, 256, 256, 3])"
            ]
          },
          "metadata": {
            "tags": []
          },
          "execution_count": 14
        }
      ]
    },
    {
      "cell_type": "code",
      "metadata": {
        "colab": {
          "base_uri": "https://localhost:8080/"
        },
        "id": "4sXzvF4pXrBy",
        "outputId": "9be6fb7e-eb4d-40d6-c951-957656dc1b32"
      },
      "source": [
        "IMG_SHAPE = (IMG_SIZE, IMG_SIZE, 3)\n",
        "\n",
        "# Create the base model from the pre-trained model MobileNet V2\n",
        "base_model = tf.keras.applications.MobileNetV2(input_shape=IMG_SHAPE,\n",
        "                                               include_top=False,\n",
        "                                               weights='imagenet')"
      ],
      "execution_count": null,
      "outputs": [
        {
          "output_type": "stream",
          "text": [
            "WARNING:tensorflow:`input_shape` is undefined or non-square, or `rows` is not in [96, 128, 160, 192, 224]. Weights for input shape (224, 224) will be loaded as the default.\n",
            "Downloading data from https://storage.googleapis.com/tensorflow/keras-applications/mobilenet_v2/mobilenet_v2_weights_tf_dim_ordering_tf_kernels_1.0_224_no_top.h5\n",
            "9412608/9406464 [==============================] - 0s 0us/step\n"
          ],
          "name": "stdout"
        }
      ]
    },
    {
      "cell_type": "code",
      "metadata": {
        "colab": {
          "base_uri": "https://localhost:8080/"
        },
        "id": "Vm28AH8NXrhF",
        "outputId": "fc38a7de-0270-4a99-ffb9-2d23f6921181"
      },
      "source": [
        "feature_batch = base_model(image_batch)\n",
        "print(feature_batch.shape)"
      ],
      "execution_count": null,
      "outputs": [
        {
          "output_type": "stream",
          "text": [
            "(32, 8, 8, 1280)\n"
          ],
          "name": "stdout"
        }
      ]
    },
    {
      "cell_type": "code",
      "metadata": {
        "id": "T7tVMAqwXsvJ"
      },
      "source": [
        "base_model.trainable = False"
      ],
      "execution_count": null,
      "outputs": []
    },
    {
      "cell_type": "code",
      "metadata": {
        "colab": {
          "base_uri": "https://localhost:8080/"
        },
        "id": "v76bshdgXt6D",
        "outputId": "2fdf80cd-a80f-4278-b3a6-6f92df743f25"
      },
      "source": [
        "global_average_layer = tf.keras.layers.GlobalAveragePooling2D()\n",
        "feature_batch_average = global_average_layer(feature_batch)\n",
        "print(feature_batch_average.shape)"
      ],
      "execution_count": null,
      "outputs": [
        {
          "output_type": "stream",
          "text": [
            "(32, 1280)\n"
          ],
          "name": "stdout"
        }
      ]
    },
    {
      "cell_type": "code",
      "metadata": {
        "colab": {
          "base_uri": "https://localhost:8080/"
        },
        "id": "-qLt9u7ZXw42",
        "outputId": "19f5fd09-3871-4080-e746-97d1db23a8cf"
      },
      "source": [
        "prediction_layer = keras.layers.Dense(2 , activation=\"softmax\")\n",
        "prediction_batch = prediction_layer(feature_batch_average)\n",
        "print(prediction_batch.shape)"
      ],
      "execution_count": null,
      "outputs": [
        {
          "output_type": "stream",
          "text": [
            "(32, 2)\n"
          ],
          "name": "stdout"
        }
      ]
    },
    {
      "cell_type": "code",
      "metadata": {
        "id": "mkFCdt2dXy79"
      },
      "source": [
        "model = tf.keras.Sequential([\n",
        "  base_model,\n",
        "  global_average_layer,\n",
        "  prediction_layer\n",
        "])"
      ],
      "execution_count": null,
      "outputs": []
    },
    {
      "cell_type": "code",
      "metadata": {
        "id": "uZMO_Fw2XzVn"
      },
      "source": [
        "base_learning_rate = 0.0001\n",
        "model.compile(optimizer=tf.keras.optimizers.RMSprop(learning_rate=base_learning_rate),\n",
        "              loss=tf.keras.losses.BinaryCrossentropy(from_logits=False),\n",
        "              metrics=['accuracy'])"
      ],
      "execution_count": null,
      "outputs": []
    },
    {
      "cell_type": "code",
      "metadata": {
        "colab": {
          "base_uri": "https://localhost:8080/"
        },
        "id": "IIfma17-X0uS",
        "outputId": "b12eee91-2a6c-40da-fe1d-3ad988a7d5d8"
      },
      "source": [
        "model.summary()"
      ],
      "execution_count": null,
      "outputs": [
        {
          "output_type": "stream",
          "text": [
            "Model: \"sequential\"\n",
            "_________________________________________________________________\n",
            "Layer (type)                 Output Shape              Param #   \n",
            "=================================================================\n",
            "mobilenetv2_1.00_224 (Functi (None, 8, 8, 1280)        2257984   \n",
            "_________________________________________________________________\n",
            "global_average_pooling2d (Gl (None, 1280)              0         \n",
            "_________________________________________________________________\n",
            "dense (Dense)                (None, 2)                 2562      \n",
            "=================================================================\n",
            "Total params: 2,260,546\n",
            "Trainable params: 2,562\n",
            "Non-trainable params: 2,257,984\n",
            "_________________________________________________________________\n"
          ],
          "name": "stdout"
        }
      ]
    },
    {
      "cell_type": "code",
      "metadata": {
        "colab": {
          "base_uri": "https://localhost:8080/"
        },
        "id": "LKBV5RnMX19X",
        "outputId": "039a64ca-fe8a-44c8-a031-d2c5d53493fc"
      },
      "source": [
        "len(model.trainable_variables)"
      ],
      "execution_count": null,
      "outputs": [
        {
          "output_type": "execute_result",
          "data": {
            "text/plain": [
              "2"
            ]
          },
          "metadata": {
            "tags": []
          },
          "execution_count": 23
        }
      ]
    },
    {
      "cell_type": "code",
      "metadata": {
        "colab": {
          "base_uri": "https://localhost:8080/"
        },
        "id": "FFPisTWCX31K",
        "outputId": "cd285cd5-ad28-4622-c2cd-56ced8d80e78"
      },
      "source": [
        "initial_epochs = 10\n",
        "validation_steps=5\n",
        "\n",
        "loss0,accuracy0 = model.evaluate(validation_batches, steps = validation_steps)"
      ],
      "execution_count": null,
      "outputs": [
        {
          "output_type": "stream",
          "text": [
            "5/5 [==============================] - 7s 1s/step - loss: 0.7677 - accuracy: 0.5312\n"
          ],
          "name": "stdout"
        }
      ]
    },
    {
      "cell_type": "code",
      "metadata": {
        "colab": {
          "base_uri": "https://localhost:8080/"
        },
        "id": "PgCSo2HDX5Iw",
        "outputId": "a59bfe34-6ce4-46f1-f061-10865eba0fca"
      },
      "source": [
        "print(\"initial loss: {:.2f}\".format(loss0))\n",
        "print(\"initial accuracy: {:.2f}\".format(accuracy0))"
      ],
      "execution_count": null,
      "outputs": [
        {
          "output_type": "stream",
          "text": [
            "initial loss: 0.77\n",
            "initial accuracy: 0.53\n"
          ],
          "name": "stdout"
        }
      ]
    },
    {
      "cell_type": "code",
      "metadata": {
        "colab": {
          "base_uri": "https://localhost:8080/"
        },
        "id": "ooEbIAe7X6Ue",
        "outputId": "cdc28d8b-9867-4c07-e244-6afb2815f1d1"
      },
      "source": [
        "history = model.fit(train_batches,\n",
        "                    epochs=initial_epochs,\n",
        "                    validation_data=validation_batches)"
      ],
      "execution_count": null,
      "outputs": [
        {
          "output_type": "stream",
          "text": [
            "Epoch 1/10\n",
            "182/182 [==============================] - 289s 2s/step - loss: 0.5775 - accuracy: 0.7569 - val_loss: 0.4530 - val_accuracy: 0.8707\n",
            "Epoch 2/10\n",
            "182/182 [==============================] - 284s 2s/step - loss: 0.3933 - accuracy: 0.8830 - val_loss: 0.3446 - val_accuracy: 0.8886\n",
            "Epoch 3/10\n",
            "182/182 [==============================] - 283s 2s/step - loss: 0.3169 - accuracy: 0.8980 - val_loss: 0.3018 - val_accuracy: 0.8913\n",
            "Epoch 4/10\n",
            "182/182 [==============================] - 283s 2s/step - loss: 0.2818 - accuracy: 0.9044 - val_loss: 0.2781 - val_accuracy: 0.8982\n",
            "Epoch 5/10\n",
            "182/182 [==============================] - 282s 2s/step - loss: 0.2611 - accuracy: 0.9088 - val_loss: 0.2653 - val_accuracy: 0.9017\n",
            "Epoch 6/10\n",
            "182/182 [==============================] - 281s 2s/step - loss: 0.2475 - accuracy: 0.9112 - val_loss: 0.2572 - val_accuracy: 0.9023\n",
            "Epoch 7/10\n",
            "182/182 [==============================] - 281s 2s/step - loss: 0.2381 - accuracy: 0.9135 - val_loss: 0.2521 - val_accuracy: 0.8989\n",
            "Epoch 8/10\n",
            "182/182 [==============================] - 282s 2s/step - loss: 0.2312 - accuracy: 0.9148 - val_loss: 0.2488 - val_accuracy: 0.9037\n",
            "Epoch 9/10\n",
            "182/182 [==============================] - 282s 2s/step - loss: 0.2257 - accuracy: 0.9173 - val_loss: 0.2446 - val_accuracy: 0.9037\n",
            "Epoch 10/10\n",
            "182/182 [==============================] - 284s 2s/step - loss: 0.2209 - accuracy: 0.9193 - val_loss: 0.2421 - val_accuracy: 0.9037\n"
          ],
          "name": "stdout"
        }
      ]
    },
    {
      "cell_type": "code",
      "metadata": {
        "colab": {
          "base_uri": "https://localhost:8080/",
          "height": 513
        },
        "id": "VQ2F6Sk5X8HQ",
        "outputId": "865749d3-9057-4a5a-9273-6f58199d118d"
      },
      "source": [
        "\n",
        "acc = history.history['accuracy']\n",
        "val_acc = history.history['val_accuracy']\n",
        "\n",
        "loss = history.history['loss']\n",
        "val_loss = history.history['val_loss']\n",
        "\n",
        "plt.figure(figsize=(8, 8))\n",
        "plt.subplot(2, 1, 1)\n",
        "plt.plot(acc, label='Training Accuracy')\n",
        "plt.plot(val_acc, label='Validation Accuracy')\n",
        "plt.legend(loc='lower right')\n",
        "plt.ylabel('Accuracy')\n",
        "plt.ylim([min(plt.ylim()),1])\n",
        "plt.title('Training and Validation Accuracy')\n",
        "\n",
        "plt.subplot(2, 1, 2)\n",
        "plt.plot(loss, label='Training Loss')\n",
        "plt.plot(val_loss, label='Validation Loss')\n",
        "plt.legend(loc='upper right')\n",
        "plt.ylabel('Cross Entropy')\n",
        "plt.ylim([0,1.0])\n",
        "plt.title('Training and Validation Loss')\n",
        "plt.xlabel('epoch')\n",
        "plt.show()"
      ],
      "execution_count": null,
      "outputs": [
        {
          "output_type": "display_data",
          "data": {
            "image/png": "[encoded data removed]",
            "text/plain": [
              "<Figure size 576x576 with 2 Axes>"
            ]
          },
          "metadata": {
            "tags": [],
            "needs_background": "light"
          }
        }
      ]
    },
    {
      "cell_type": "code",
      "metadata": {
        "id": "7S6lmBTCsO9c"
      },
      "source": [
        "base_model.trainable = True"
      ],
      "execution_count": null,
      "outputs": []
    },
    {
      "cell_type": "code",
      "metadata": {
        "colab": {
          "base_uri": "https://localhost:8080/"
        },
        "id": "x2TrzeGNsRlT",
        "outputId": "31ccc800-6b2a-4374-d399-ad7a81c9ffc6"
      },
      "source": [
        "\n",
        "# Let's take a look to see how many layers are in the base model\n",
        "print(\"Number of layers in the base model: \", len(base_model.layers))\n",
        "\n",
        "# Fine-tune from this layer onwards\n",
        "fine_tune_at = 100\n",
        "\n",
        "# Freeze all the layers before the `fine_tune_at` layer\n",
        "for layer in base_model.layers[:fine_tune_at]:\n",
        "  layer.trainable =  False"
      ],
      "execution_count": null,
      "outputs": [
        {
          "output_type": "stream",
          "text": [
            "Number of layers in the base model:  154\n"
          ],
          "name": "stdout"
        }
      ]
    },
    {
      "cell_type": "code",
      "metadata": {
        "colab": {
          "base_uri": "https://localhost:8080/"
        },
        "id": "YxucYKjVsUNQ",
        "outputId": "5457cef5-5ab3-4623-fb24-2b8159b4632c"
      },
      "source": [
        "model.compile(loss=tf.keras.losses.BinaryCrossentropy(from_logits=False),\n",
        "              optimizer = tf.keras.optimizers.RMSprop(lr=base_learning_rate/10),\n",
        "              metrics=['accuracy'])"
      ],
      "execution_count": null,
      "outputs": [
        {
          "output_type": "stream",
          "text": [
            "/usr/local/lib/python3.7/dist-packages/tensorflow/python/keras/optimizer_v2/optimizer_v2.py:375: UserWarning: The `lr` argument is deprecated, use `learning_rate` instead.\n",
            "  \"The `lr` argument is deprecated, use `learning_rate` instead.\")\n"
          ],
          "name": "stderr"
        }
      ]
    },
    {
      "cell_type": "code",
      "metadata": {
        "colab": {
          "base_uri": "https://localhost:8080/"
        },
        "id": "Wmpd75kHsXKn",
        "outputId": "bbd71cfc-ff6e-4873-987a-566838b577fd"
      },
      "source": [
        "model.summary()"
      ],
      "execution_count": null,
      "outputs": [
        {
          "output_type": "stream",
          "text": [
            "Model: \"sequential\"\n",
            "_________________________________________________________________\n",
            "Layer (type)                 Output Shape              Param #   \n",
            "=================================================================\n",
            "mobilenetv2_1.00_224 (Functi (None, 8, 8, 1280)        2257984   \n",
            "_________________________________________________________________\n",
            "global_average_pooling2d (Gl (None, 1280)              0         \n",
            "_________________________________________________________________\n",
            "dense (Dense)                (None, 2)                 2562      \n",
            "=================================================================\n",
            "Total params: 2,260,546\n",
            "Trainable params: 1,864,002\n",
            "Non-trainable params: 396,544\n",
            "_________________________________________________________________\n"
          ],
          "name": "stdout"
        }
      ]
    },
    {
      "cell_type": "code",
      "metadata": {
        "colab": {
          "base_uri": "https://localhost:8080/"
        },
        "id": "2QVM71sBsY5_",
        "outputId": "95e1c28b-de8d-451f-b42c-2a34634e9836"
      },
      "source": [
        "len(model.trainable_variables)"
      ],
      "execution_count": null,
      "outputs": [
        {
          "output_type": "execute_result",
          "data": {
            "text/plain": [
              "56"
            ]
          },
          "metadata": {
            "tags": []
          },
          "execution_count": 32
        }
      ]
    },
    {
      "cell_type": "code",
      "metadata": {
        "colab": {
          "base_uri": "https://localhost:8080/"
        },
        "id": "dmkzhUxbsczu",
        "outputId": "ffb54d54-4fe3-401c-9122-c3491e923598"
      },
      "source": [
        "fine_tune_epochs = 10\n",
        "total_epochs =  initial_epochs + fine_tune_epochs\n",
        "\n",
        "history_fine = model.fit(train_batches,\n",
        "                         epochs=total_epochs,\n",
        "                         initial_epoch =  history.epoch[-1],\n",
        "                         validation_data=validation_batches)"
      ],
      "execution_count": null,
      "outputs": [
        {
          "output_type": "stream",
          "text": [
            "Epoch 10/20\n",
            "182/182 [==============================] - 489s 3s/step - loss: 0.2565 - accuracy: 0.9018 - val_loss: 0.2283 - val_accuracy: 0.9065\n",
            "Epoch 11/20\n",
            "182/182 [==============================] - 482s 3s/step - loss: 0.2036 - accuracy: 0.9236 - val_loss: 0.2209 - val_accuracy: 0.9092\n",
            "Epoch 12/20\n",
            "182/182 [==============================] - 482s 3s/step - loss: 0.1809 - accuracy: 0.9320 - val_loss: 0.2194 - val_accuracy: 0.9092\n",
            "Epoch 13/20\n",
            "182/182 [==============================] - 483s 3s/step - loss: 0.1639 - accuracy: 0.9372 - val_loss: 0.2190 - val_accuracy: 0.9154\n",
            "Epoch 14/20\n",
            "182/182 [==============================] - 488s 3s/step - loss: 0.1368 - accuracy: 0.9539 - val_loss: 0.2194 - val_accuracy: 0.9195\n",
            "Epoch 15/20\n",
            "182/182 [==============================] - 487s 3s/step - loss: 0.1279 - accuracy: 0.9536 - val_loss: 0.2197 - val_accuracy: 0.9188\n",
            "Epoch 16/20\n",
            "182/182 [==============================] - 480s 3s/step - loss: 0.1007 - accuracy: 0.9663 - val_loss: 0.2201 - val_accuracy: 0.9182\n",
            "Epoch 17/20\n",
            "182/182 [==============================] - 481s 3s/step - loss: 0.0902 - accuracy: 0.9704 - val_loss: 0.2223 - val_accuracy: 0.9202\n",
            "Epoch 18/20\n",
            "182/182 [==============================] - 490s 3s/step - loss: 0.0806 - accuracy: 0.9757 - val_loss: 0.2256 - val_accuracy: 0.9230\n",
            "Epoch 19/20\n",
            "182/182 [==============================] - 493s 3s/step - loss: 0.0663 - accuracy: 0.9823 - val_loss: 0.2362 - val_accuracy: 0.9216\n",
            "Epoch 20/20\n",
            "182/182 [==============================] - 491s 3s/step - loss: 0.0580 - accuracy: 0.9831 - val_loss: 0.2357 - val_accuracy: 0.9237\n"
          ],
          "name": "stdout"
        }
      ]
    },
    {
      "cell_type": "code",
      "metadata": {
        "id": "uFfDHmYEC5H2"
      },
      "source": [
        "acc += history_fine.history['accuracy']\n",
        "val_acc += history_fine.history['val_accuracy']\n",
        "\n",
        "loss += history_fine.history['loss']\n",
        "val_loss += history_fine.history['val_loss']\n"
      ],
      "execution_count": null,
      "outputs": []
    },
    {
      "cell_type": "code",
      "metadata": {
        "colab": {
          "base_uri": "https://localhost:8080/",
          "height": 513
        },
        "id": "fvbZxN-jC6lh",
        "outputId": "261497d2-184b-4806-9f0b-9fc11737dd97"
      },
      "source": [
        "plt.figure(figsize=(8, 8))\n",
        "plt.subplot(2, 1, 1)\n",
        "plt.plot(acc, label='Training Accuracy')\n",
        "plt.plot(val_acc, label='Validation Accuracy')\n",
        "plt.ylim([0.8, 1])\n",
        "plt.plot([initial_epochs-1,initial_epochs-1],\n",
        "          plt.ylim(), label='Start Fine Tuning')\n",
        "plt.legend(loc='lower right')\n",
        "plt.title('Training and Validation Accuracy')\n",
        "\n",
        "plt.subplot(2, 1, 2)\n",
        "plt.plot(loss, label='Training Loss')\n",
        "plt.plot(val_loss, label='Validation Loss')\n",
        "plt.ylim([0, 1.0])\n",
        "plt.plot([initial_epochs-1,initial_epochs-1],\n",
        "         plt.ylim(), label='Start Fine Tuning')\n",
        "plt.legend(loc='upper right')\n",
        "plt.title('Training and Validation Loss')\n",
        "plt.xlabel('epoch')\n",
        "plt.show()"
      ],
      "execution_count": null,
      "outputs": [
        {
          "output_type": "display_data",
          "data": {
            "image/png": "[encoded data removed]",
            "text/plain": [
              "<Figure size 576x576 with 2 Axes>"
            ]
          },
          "metadata": {
            "tags": [],
            "needs_background": "light"
          }
        }
      ]
    },
    {
      "cell_type": "code",
      "metadata": {
        "colab": {
          "base_uri": "https://localhost:8080/"
        },
        "id": "oAwnQ1CGmgis",
        "outputId": "dc01d516-fecf-4dcb-e6d6-903e09846be8"
      },
      "source": [
        "model.save('/content/Places2/Places2/placesMobilnet.h5')"
      ],
      "execution_count": null,
      "outputs": [
        {
          "output_type": "stream",
          "text": [
            "/usr/local/lib/python3.7/dist-packages/tensorflow/python/keras/utils/generic_utils.py:497: CustomMaskWarning: Custom mask layers require a config and must override get_config. When loading, the custom mask layer must be passed to the custom_objects argument.\n",
            "  category=CustomMaskWarning)\n"
          ],
          "name": "stderr"
        }
      ]
    },
    {
      "cell_type": "code",
      "metadata": {
        "id": "0p6exCcGmk-p"
      },
      "source": [
        "model.save_weights(filepath='/content/Places2/Places2/final_weightVGGplaces.hdf5')"
      ],
      "execution_count": null,
      "outputs": []
    },
    {
      "cell_type": "code",
      "metadata": {
        "colab": {
          "base_uri": "https://localhost:8080/"
        },
        "id": "aPMfR2HRDAGy",
        "outputId": "e6c7c6ea-3fd7-421d-9ff6-a6aa411602eb"
      },
      "source": [
        "loss1,accuracy1 = model.evaluate(test_batches, steps = validation_steps)\n",
        "print(\"test loss: {:.2f}\".format(loss1))\n",
        "print(\"test accuracy: {:.2f}\".format(accuracy1))"
      ],
      "execution_count": null,
      "outputs": [
        {
          "output_type": "stream",
          "text": [
            "5/5 [==============================] - 6s 1s/step - loss: 0.1972 - accuracy: 0.9187\n",
            "test loss: 0.20\n",
            "test accuracy: 0.92\n"
          ],
          "name": "stdout"
        }
      ]
    },
    {
      "cell_type": "code",
      "metadata": {
        "colab": {
          "base_uri": "https://localhost:8080/"
        },
        "id": "dqRN00o3N9PK",
        "outputId": "54455ea6-b76d-450b-a071-614269583823"
      },
      "source": [
        "# load_model_sample.py\n",
        "from keras.models import load_model\n",
        "from keras.preprocessing import image\n",
        "import matplotlib.pyplot as plt\n",
        "import numpy as np\n",
        "import os\n",
        "\n",
        "\n",
        "def load_image(img_path, show=False):\n",
        "\n",
        "    img = image.load_img(img_path, target_size=(256, 256))\n",
        "    img_tensor = image.img_to_array(img)                    # (height, width, channels)\n",
        "    img_tensor = np.expand_dims(img_tensor, axis=0)         # (1, height, width, channels), add a dimension because the model expects this shape: (batch_size, height, width, channels)\n",
        "    img_tensor /= 255.                                      # imshow expects values in the range [0, 1]\n",
        "\n",
        "    if show:\n",
        "        plt.imshow(img_tensor[0])                           \n",
        "        plt.axis('off')\n",
        "        plt.show()\n",
        "\n",
        "    return img_tensor\n",
        "\n",
        "\n",
        "if __name__ == \"__main__\":\n",
        "\n",
        "    # load model\n",
        "    model = load_model(\"/content/Places2/Places2/placesMobilnet.h5\")\n",
        "\n",
        "    # image path\n",
        "    #img_path = '/content/Places2/Places2/val/indoor/00000003 (3).jpg'   \n",
        "    img_path = '/content/Places2/Places2/val/outdoor/00000064.jpg'      \n",
        "\n",
        "    # load a single image\n",
        "    new_image = load_image(img_path)\n",
        "\n",
        "    # check prediction\n",
        "    pred = model.predict_classes(new_image)\n",
        "\n",
        "if pred==0:\n",
        "  print(\"indoor\")\n",
        "else:\n",
        "  print(\"outdoor\")\n"
      ],
      "execution_count": null,
      "outputs": [
        {
          "output_type": "stream",
          "text": [
            "/usr/local/lib/python3.7/dist-packages/keras/engine/sequential.py:450: UserWarning: `model.predict_classes()` is deprecated and will be removed after 2021-01-01. Please use instead:* `np.argmax(model.predict(x), axis=-1)`,   if your model does multi-class classification   (e.g. if it uses a `softmax` last-layer activation).* `(model.predict(x) > 0.5).astype(\"int32\")`,   if your model does binary classification   (e.g. if it uses a `sigmoid` last-layer activation).\n",
            "  warnings.warn('`model.predict_classes()` is deprecated and '\n"
          ],
          "name": "stderr"
        },
        {
          "output_type": "stream",
          "text": [
            "outdoor\n"
          ],
          "name": "stdout"
        }
      ]
    }
  ]
}