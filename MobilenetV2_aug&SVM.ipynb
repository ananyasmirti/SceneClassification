{
  "nbformat": 4,
  "nbformat_minor": 0,
  "metadata": {
    "colab": {
      "name": "MobilenetV2_aug&SVM.ipynb",
      "provenance": [],
      "collapsed_sections": []
    },
    "kernelspec": {
      "name": "python3",
      "display_name": "Python 3"
    },
    "language_info": {
      "name": "python"
    }
  },
  "cells": [
    {
      "cell_type": "code",
      "metadata": {
        "colab": {
          "base_uri": "https://localhost:8080/"
        },
        "id": "PJ9BUQRXOKB5",
        "outputId": "433a095e-bf09-4972-838f-f05b7b8ff5ac"
      },
      "source": [
        "from google.colab import drive \n",
        "drive.mount('/content/drive')"
      ],
      "execution_count": 2,
      "outputs": [
        {
          "output_type": "stream",
          "text": [
            "Mounted at /content/drive\n"
          ],
          "name": "stdout"
        }
      ]
    },
    {
      "cell_type": "code",
      "metadata": {
        "id": "sM040hqoOOR4"
      },
      "source": [
        "!mkdir featureextract"
      ],
      "execution_count": null,
      "outputs": []
    },
    {
      "cell_type": "code",
      "metadata": {
        "id": "W_ZYnX5VOQ7I"
      },
      "source": [
        "import shutil \n",
        "shutil.unpack_archive(\"drive/MyDrive/featureextract.zip\", \"featureextract/\")"
      ],
      "execution_count": null,
      "outputs": []
    },
    {
      "cell_type": "code",
      "metadata": {
        "id": "pYdT6mmLOVC1"
      },
      "source": [
        "from __future__ import absolute_import, division, print_function, unicode_literals\n",
        "\n",
        "import os\n",
        "\n",
        "import numpy as np\n",
        "\n",
        "import matplotlib.pyplot as plt\n",
        "\n",
        "import pathlib"
      ],
      "execution_count": null,
      "outputs": []
    },
    {
      "cell_type": "code",
      "metadata": {
        "colab": {
          "base_uri": "https://localhost:8080/"
        },
        "id": "83TG5qHZOWRJ",
        "outputId": "9d9ea199-60df-4558-99be-cb2e9c498dc9"
      },
      "source": [
        "from os import listdir\n",
        "data_list = listdir('/content/featureextract/featureextract')\n",
        "\n",
        "#Delete some classes that may interfere\n",
        "\n",
        "\n",
        "data_list"
      ],
      "execution_count": null,
      "outputs": [
        {
          "output_type": "execute_result",
          "data": {
            "text/plain": [
              "['train', 'val']"
            ]
          },
          "metadata": {
            "tags": []
          },
          "execution_count": 5
        }
      ]
    },
    {
      "cell_type": "code",
      "metadata": {
        "id": "N6DBZWD3OgJT"
      },
      "source": [
        "from tensorflow.keras.preprocessing.image import ImageDataGenerator"
      ],
      "execution_count": null,
      "outputs": []
    },
    {
      "cell_type": "code",
      "metadata": {
        "id": "7c-kMlsDOjk3"
      },
      "source": [
        "DATASET_PATH  = '/content/featureextract/featureextract/train'\n",
        "test_dir =  '/content/featureextract/featureextract/val'\n",
        "IMAGE_SIZE    = (256, 256)\n",
        "NUM_CLASSES   = len(data_list)\n",
        "BATCH_SIZE    = 32 # try reducing batch size or freeze more layers if your GPU runs out of memory\n",
        "NUM_EPOCHS    = 10\n",
        "LEARNING_RATE = 0.0001 #start off with high rate first 0.001 #5e-4"
      ],
      "execution_count": null,
      "outputs": []
    },
    {
      "cell_type": "code",
      "metadata": {
        "id": "AL2Ulw1tQ1l4"
      },
      "source": [
        "from tensorflow.keras.preprocessing.image import ImageDataGenerator"
      ],
      "execution_count": null,
      "outputs": []
    },
    {
      "cell_type": "code",
      "metadata": {
        "colab": {
          "base_uri": "https://localhost:8080/"
        },
        "id": "mGO7IOpTOlZS",
        "outputId": "fca0f96f-ed2c-4c38-cde3-7623a7d64a82"
      },
      "source": [
        "train_datagen = ImageDataGenerator(rescale=1./255,\n",
        "                                   rotation_range=50,\n",
        "                                   featurewise_center = True,\n",
        "                                   featurewise_std_normalization = True,\n",
        "                                   width_shift_range=0.2,\n",
        "                                   height_shift_range=0.2,\n",
        "                                   shear_range=0.25,\n",
        "                                   zoom_range=0.1,\n",
        "                                   zca_whitening = True,\n",
        "                                   channel_shift_range = 20,\n",
        "                                   horizontal_flip = True ,\n",
        "                                   vertical_flip = True ,\n",
        "                                   validation_split = 0.2,\n",
        "                                   fill_mode='nearest')"
      ],
      "execution_count": null,
      "outputs": [
        {
          "output_type": "stream",
          "text": [
            "/usr/local/lib/python3.7/dist-packages/keras_preprocessing/image/image_data_generator.py:342: UserWarning: This ImageDataGenerator specifies `zca_whitening` which overrides setting of`featurewise_std_normalization`.\n",
            "  warnings.warn('This ImageDataGenerator specifies '\n"
          ],
          "name": "stderr"
        }
      ]
    },
    {
      "cell_type": "code",
      "metadata": {
        "colab": {
          "base_uri": "https://localhost:8080/"
        },
        "id": "k4z-DWxOOrCL",
        "outputId": "0bb9efd0-7c2e-464f-dc16-2e097d23f419"
      },
      "source": [
        "train_batches = train_datagen.flow_from_directory(DATASET_PATH,\n",
        "                                                  target_size=IMAGE_SIZE,\n",
        "                                                  shuffle=True,\n",
        "                                                  batch_size=BATCH_SIZE,\n",
        "                                                  subset = \"training\",\n",
        "                                                  seed=42,\n",
        "                                                  color_mode=\"rgb\",\n",
        "                                                  class_mode=\"categorical\",\n",
        "                                                 \n",
        "                                                  )"
      ],
      "execution_count": null,
      "outputs": [
        {
          "output_type": "stream",
          "text": [
            "Found 1606 images belonging to 5 classes.\n"
          ],
          "name": "stdout"
        }
      ]
    },
    {
      "cell_type": "code",
      "metadata": {
        "colab": {
          "base_uri": "https://localhost:8080/"
        },
        "id": "ohyaZvP9OveV",
        "outputId": "7ca6a3e7-9741-441e-9411-178d4da6a688"
      },
      "source": [
        "validation_batches = train_datagen.flow_from_directory(DATASET_PATH,\n",
        "                                                  target_size=IMAGE_SIZE,\n",
        "                                                  shuffle=True,\n",
        "                                                  batch_size=BATCH_SIZE,\n",
        "                                                  subset = \"validation\",\n",
        "                                                  seed=42,\n",
        "                                                  color_mode=\"rgb\",\n",
        "                                                  class_mode=\"categorical\",\n",
        "                                                  \n",
        "                                                 \n",
        "                                                  )"
      ],
      "execution_count": null,
      "outputs": [
        {
          "output_type": "stream",
          "text": [
            "Found 401 images belonging to 5 classes.\n"
          ],
          "name": "stdout"
        }
      ]
    },
    {
      "cell_type": "code",
      "metadata": {
        "id": "7QTgFb0dOw-t"
      },
      "source": [
        "SHAPE_INP=(256,256, 3)\n",
        "input_shape=(None,256,256, 3)\n",
        "IMG_SIZE=256"
      ],
      "execution_count": null,
      "outputs": []
    },
    {
      "cell_type": "code",
      "metadata": {
        "id": "3ogLMcdZRK4L"
      },
      "source": [
        "try:\n",
        "  # %tensorflow_version only exists in Colab.\n",
        "  %tensorflow_version 2.x\n",
        "except Exception:\n",
        "  pass\n",
        "import tensorflow as tf\n",
        "\n",
        "keras = tf.keras"
      ],
      "execution_count": null,
      "outputs": []
    },
    {
      "cell_type": "code",
      "metadata": {
        "id": "9SkOU1TvjWz2"
      },
      "source": [
        "from keras.applications.mobilenet_v2 import MobileNetV2"
      ],
      "execution_count": null,
      "outputs": []
    },
    {
      "cell_type": "code",
      "metadata": {
        "colab": {
          "base_uri": "https://localhost:8080/"
        },
        "id": "0P-OaRckje3j",
        "outputId": "9eb7069f-6e29-4bee-855c-60662c6651ca"
      },
      "source": [
        "pip install keras --user"
      ],
      "execution_count": null,
      "outputs": [
        {
          "output_type": "stream",
          "text": [
            "Requirement already satisfied: keras in /usr/local/lib/python3.7/dist-packages (2.4.3)\n",
            "Requirement already satisfied: scipy>=0.14 in /usr/local/lib/python3.7/dist-packages (from keras) (1.4.1)\n",
            "Requirement already satisfied: numpy>=1.9.1 in /usr/local/lib/python3.7/dist-packages (from keras) (1.19.5)\n",
            "Requirement already satisfied: h5py in /usr/local/lib/python3.7/dist-packages (from keras) (3.1.0)\n",
            "Requirement already satisfied: pyyaml in /usr/local/lib/python3.7/dist-packages (from keras) (3.13)\n",
            "Requirement already satisfied: cached-property in /usr/local/lib/python3.7/dist-packages (from h5py->keras) (1.5.2)\n"
          ],
          "name": "stdout"
        }
      ]
    },
    {
      "cell_type": "code",
      "metadata": {
        "colab": {
          "base_uri": "https://localhost:8080/"
        },
        "id": "7O1fWbK0O2BY",
        "outputId": "d125a44d-e17c-46f6-ca79-39c7c3cdbfe8"
      },
      "source": [
        "IMG_SHAPE = (256, 256, 3)\n",
        "\n",
        "# Create the base model from the pre-trained model MobileNet V2\n",
        "base_model = MobileNetV2(weights='imagenet',\n",
        "                  include_top=False,\n",
        "                  input_shape= SHAPE_INP)"
      ],
      "execution_count": null,
      "outputs": [
        {
          "output_type": "stream",
          "text": [
            "WARNING:tensorflow:`input_shape` is undefined or non-square, or `rows` is not in [96, 128, 160, 192, 224]. Weights for input shape (224, 224) will be loaded as the default.\n",
            "Downloading data from https://storage.googleapis.com/tensorflow/keras-applications/mobilenet_v2/mobilenet_v2_weights_tf_dim_ordering_tf_kernels_1.0_224_no_top.h5\n",
            "9412608/9406464 [==============================] - 0s 0us/step\n",
            "9420800/9406464 [==============================] - 0s 0us/step\n"
          ],
          "name": "stdout"
        }
      ]
    },
    {
      "cell_type": "code",
      "metadata": {
        "id": "C5aw6IkaPDf_"
      },
      "source": [
        "base_model.trainable = False"
      ],
      "execution_count": null,
      "outputs": []
    },
    {
      "cell_type": "code",
      "metadata": {
        "id": "zoL_RelHRq8m"
      },
      "source": [
        "from keras import models\n",
        "from keras import layers"
      ],
      "execution_count": null,
      "outputs": []
    },
    {
      "cell_type": "code",
      "metadata": {
        "id": "L4P418G9PINo"
      },
      "source": [
        "callback = tf.keras.callbacks.EarlyStopping(monitor='loss', patience=3)\n",
        "model = models.Sequential()\n",
        "model.add(base_model)\n",
        "model.add(layers.GlobalAveragePooling2D(name=\"last_layer\"))\n",
        "model.add(layers.Dense(2 , activation=\"softmax\"))\n",
        "base_learning_rate = 0.0001\n",
        "model.compile(optimizer=tf.keras.optimizers.RMSprop(learning_rate=base_learning_rate),\n",
        "              loss=tf.keras.losses.BinaryCrossentropy(from_logits=False),\n",
        "              metrics=['accuracy'],)"
      ],
      "execution_count": null,
      "outputs": []
    },
    {
      "cell_type": "code",
      "metadata": {
        "colab": {
          "base_uri": "https://localhost:8080/"
        },
        "id": "0s52lyohPi6U",
        "outputId": "875931d6-58e5-4432-8c10-5d058447ce9e"
      },
      "source": [
        "model.summary()"
      ],
      "execution_count": null,
      "outputs": [
        {
          "output_type": "stream",
          "text": [
            "Model: \"sequential\"\n",
            "_________________________________________________________________\n",
            "Layer (type)                 Output Shape              Param #   \n",
            "=================================================================\n",
            "mobilenetv2_1.00_224 (Functi (None, 8, 8, 1280)        2257984   \n",
            "_________________________________________________________________\n",
            "last_layer (GlobalAveragePoo (None, 1280)              0         \n",
            "_________________________________________________________________\n",
            "dense (Dense)                (None, 2)                 2562      \n",
            "=================================================================\n",
            "Total params: 2,260,546\n",
            "Trainable params: 2,562\n",
            "Non-trainable params: 2,257,984\n",
            "_________________________________________________________________\n"
          ],
          "name": "stdout"
        }
      ]
    },
    {
      "cell_type": "code",
      "metadata": {
        "colab": {
          "base_uri": "https://localhost:8080/"
        },
        "id": "a1vsMAuNPkqV",
        "outputId": "366a61de-b7a4-4bf7-f2a7-ac075b04a458"
      },
      "source": [
        "len(model.trainable_variables)"
      ],
      "execution_count": null,
      "outputs": [
        {
          "output_type": "execute_result",
          "data": {
            "text/plain": [
              "2"
            ]
          },
          "metadata": {
            "tags": []
          },
          "execution_count": 21
        }
      ]
    },
    {
      "cell_type": "code",
      "metadata": {
        "colab": {
          "base_uri": "https://localhost:8080/"
        },
        "id": "qd9cOHX7Pl7_",
        "outputId": "0a3d898c-fdab-4c89-de95-ecd3a738e798"
      },
      "source": [
        "initial_epochs = 10\n",
        "validation_steps=5\n",
        "\n",
        "loss0,accuracy0 = model.evaluate(validation_batches, steps = validation_steps)"
      ],
      "execution_count": null,
      "outputs": [
        {
          "output_type": "stream",
          "text": [
            "/usr/local/lib/python3.7/dist-packages/keras_preprocessing/image/image_data_generator.py:720: UserWarning: This ImageDataGenerator specifies `featurewise_center`, but it hasn't been fit on any training data. Fit it first by calling `.fit(numpy_data)`.\n",
            "  warnings.warn('This ImageDataGenerator specifies '\n",
            "/usr/local/lib/python3.7/dist-packages/keras_preprocessing/image/image_data_generator.py:739: UserWarning: This ImageDataGenerator specifies `zca_whitening`, but it hasn't been fit on any training data. Fit it first by calling `.fit(numpy_data)`.\n",
            "  warnings.warn('This ImageDataGenerator specifies '\n"
          ],
          "name": "stderr"
        },
        {
          "output_type": "stream",
          "text": [
            "5/5 [==============================] - 38s 2s/step - loss: 0.8160 - accuracy: 0.4173\n"
          ],
          "name": "stdout"
        }
      ]
    },
    {
      "cell_type": "code",
      "metadata": {
        "colab": {
          "base_uri": "https://localhost:8080/"
        },
        "id": "0tLo72fbkziP",
        "outputId": "37df918d-4556-43bf-bc96-31c90d1ff3fb"
      },
      "source": [
        "print(\"initial loss: {:.2f}\".format(loss0))\n",
        "print(\"initial accuracy: {:.2f}\".format(accuracy0))"
      ],
      "execution_count": null,
      "outputs": [
        {
          "output_type": "stream",
          "text": [
            "initial loss: 0.82\n",
            "initial accuracy: 0.39\n"
          ],
          "name": "stdout"
        }
      ]
    },
    {
      "cell_type": "code",
      "metadata": {
        "colab": {
          "base_uri": "https://localhost:8080/"
        },
        "id": "Zp0oicqsk1B5",
        "outputId": "41d48afe-6364-40ec-9974-53f9c9c6b228"
      },
      "source": [
        "\n",
        "STEP_SIZE_TRAIN=train_batches.n//train_batches.batch_size\n",
        "STEP_SIZE_VALID=validation_batches.n//validation_batches.batch_size\n",
        "history = model.fit(train_batches,\n",
        "                    epochs=initial_epochs,\n",
        "                    validation_data=validation_batches,\n",
        "                    steps_per_epoch =STEP_SIZE_TRAIN,\n",
        "    validation_steps = STEP_SIZE_VALID,callbacks=[callback])"
      ],
      "execution_count": null,
      "outputs": [
        {
          "output_type": "stream",
          "text": [
            "/usr/local/lib/python3.7/dist-packages/keras_preprocessing/image/image_data_generator.py:720: UserWarning: This ImageDataGenerator specifies `featurewise_center`, but it hasn't been fit on any training data. Fit it first by calling `.fit(numpy_data)`.\n",
            "  warnings.warn('This ImageDataGenerator specifies '\n",
            "/usr/local/lib/python3.7/dist-packages/keras_preprocessing/image/image_data_generator.py:739: UserWarning: This ImageDataGenerator specifies `zca_whitening`, but it hasn't been fit on any training data. Fit it first by calling `.fit(numpy_data)`.\n",
            "  warnings.warn('This ImageDataGenerator specifies '\n"
          ],
          "name": "stderr"
        },
        {
          "output_type": "stream",
          "text": [
            "Epoch 1/10\n",
            "117/117 [==============================] - 340s 3s/step - loss: 0.5032 - accuracy: 0.8133 - val_loss: 0.3874 - val_accuracy: 0.9121\n",
            "Epoch 2/10\n",
            "117/117 [==============================] - 316s 3s/step - loss: 0.2462 - accuracy: 0.9733 - val_loss: 0.2370 - val_accuracy: 0.9615\n",
            "Epoch 3/10\n",
            "117/117 [==============================] - 314s 3s/step - loss: 0.1360 - accuracy: 0.9840 - val_loss: 0.1496 - val_accuracy: 0.9714\n",
            "Epoch 4/10\n",
            "117/117 [==============================] - 316s 3s/step - loss: 0.0882 - accuracy: 0.9866 - val_loss: 0.1103 - val_accuracy: 0.9791\n",
            "Epoch 5/10\n",
            "117/117 [==============================] - 314s 3s/step - loss: 0.0688 - accuracy: 0.9880 - val_loss: 0.1006 - val_accuracy: 0.9802\n",
            "Epoch 6/10\n",
            "117/117 [==============================] - 317s 3s/step - loss: 0.0548 - accuracy: 0.9912 - val_loss: 0.0885 - val_accuracy: 0.9835\n",
            "Epoch 7/10\n",
            "117/117 [==============================] - 313s 3s/step - loss: 0.0449 - accuracy: 0.9909 - val_loss: 0.0740 - val_accuracy: 0.9802\n",
            "Epoch 8/10\n",
            "117/117 [==============================] - 314s 3s/step - loss: 0.0440 - accuracy: 0.9904 - val_loss: 0.0702 - val_accuracy: 0.9791\n",
            "Epoch 9/10\n",
            "117/117 [==============================] - 322s 3s/step - loss: 0.0379 - accuracy: 0.9925 - val_loss: 0.0525 - val_accuracy: 0.9912\n",
            "Epoch 10/10\n",
            "117/117 [==============================] - 319s 3s/step - loss: 0.0314 - accuracy: 0.9941 - val_loss: 0.0509 - val_accuracy: 0.9879\n"
          ],
          "name": "stdout"
        }
      ]
    },
    {
      "cell_type": "code",
      "metadata": {
        "id": "zGwsMlEJozBs"
      },
      "source": [
        "acc = history.history['accuracy']\n",
        "val_acc = history.history['val_accuracy']\n",
        "\n",
        "loss = history.history['loss']\n",
        "val_loss = history.history['val_loss']"
      ],
      "execution_count": null,
      "outputs": []
    },
    {
      "cell_type": "code",
      "metadata": {
        "colab": {
          "base_uri": "https://localhost:8080/",
          "height": 513
        },
        "id": "ePvOHuqKmGJt",
        "outputId": "a0c05b6e-4011-492d-f0d1-d55dfccd5a87"
      },
      "source": [
        "\n",
        "\n",
        "plt.figure(figsize=(8, 8))\n",
        "plt.subplot(2, 1, 1)\n",
        "plt.plot(acc, label='Training Accuracy')\n",
        "plt.plot(val_acc, label='Validation Accuracy')\n",
        "plt.legend(loc='lower right')\n",
        "plt.ylabel('Accuracy')\n",
        "plt.ylim([min(plt.ylim()),1])\n",
        "plt.title('Training and Validation Accuracy')\n",
        "\n",
        "plt.subplot(2, 1, 2)\n",
        "plt.plot(loss, label='Training Loss')\n",
        "plt.plot(val_loss, label='Validation Loss')\n",
        "plt.legend(loc='upper right')\n",
        "plt.ylabel('Cross Entropy')\n",
        "plt.ylim([0,1.0])\n",
        "plt.title('Training and Validation Loss')\n",
        "plt.xlabel('epoch')\n",
        "plt.show()"
      ],
      "execution_count": null,
      "outputs": [
        {
          "output_type": "display_data",
          "data": {
            "image/png": "[encoded data removed]",
            "text/plain": [
              "<Figure size 576x576 with 2 Axes>"
            ]
          },
          "metadata": {
            "tags": [],
            "needs_background": "light"
          }
        }
      ]
    },
    {
      "cell_type": "code",
      "metadata": {
        "colab": {
          "base_uri": "https://localhost:8080/"
        },
        "id": "45RexYCYmHB_",
        "outputId": "545e7bf2-ec21-42df-8d98-7030a396144d"
      },
      "source": [
        "# Let's take a look to see how many layers are in the base model\n",
        "print(\"Number of layers in the base model: \", len(base_model.layers))\n",
        "\n",
        "# Fine-tune from this layer onwards\n",
        "fine_tune_at = 100\n",
        "\n",
        "# Freeze all the layers before the `fine_tune_at` layer\n",
        "for layer in base_model.layers[:fine_tune_at]:\n",
        "  layer.trainable =  False"
      ],
      "execution_count": null,
      "outputs": [
        {
          "output_type": "stream",
          "text": [
            "Number of layers in the base model:  154\n"
          ],
          "name": "stdout"
        }
      ]
    },
    {
      "cell_type": "code",
      "metadata": {
        "colab": {
          "base_uri": "https://localhost:8080/"
        },
        "id": "SeK-wO79mJeG",
        "outputId": "ffe0e704-dfa4-4304-d7da-935084e3850b"
      },
      "source": [
        "model.compile(loss=tf.keras.losses.BinaryCrossentropy(from_logits=False),\n",
        "              optimizer = tf.keras.optimizers.RMSprop(lr=base_learning_rate/10),\n",
        "              metrics=['accuracy'])"
      ],
      "execution_count": null,
      "outputs": [
        {
          "output_type": "stream",
          "text": [
            "/usr/local/lib/python3.7/dist-packages/tensorflow/python/keras/optimizer_v2/optimizer_v2.py:375: UserWarning: The `lr` argument is deprecated, use `learning_rate` instead.\n",
            "  \"The `lr` argument is deprecated, use `learning_rate` instead.\")\n"
          ],
          "name": "stderr"
        }
      ]
    },
    {
      "cell_type": "code",
      "metadata": {
        "colab": {
          "base_uri": "https://localhost:8080/"
        },
        "id": "YwjAvxpumLpO",
        "outputId": "5b2973a7-003b-45c4-b712-387767e9d4ea"
      },
      "source": [
        "model.summary()"
      ],
      "execution_count": null,
      "outputs": [
        {
          "output_type": "stream",
          "text": [
            "Model: \"sequential\"\n",
            "_________________________________________________________________\n",
            "Layer (type)                 Output Shape              Param #   \n",
            "=================================================================\n",
            "mobilenetv2_1.00_224 (Functi (None, 8, 8, 1280)        2257984   \n",
            "_________________________________________________________________\n",
            "last_layer (GlobalAveragePoo (None, 1280)              0         \n",
            "_________________________________________________________________\n",
            "dense (Dense)                (None, 2)                 2562      \n",
            "=================================================================\n",
            "Total params: 2,260,546\n",
            "Trainable params: 2,562\n",
            "Non-trainable params: 2,257,984\n",
            "_________________________________________________________________\n"
          ],
          "name": "stdout"
        }
      ]
    },
    {
      "cell_type": "code",
      "metadata": {
        "colab": {
          "base_uri": "https://localhost:8080/"
        },
        "id": "LUcpyRXrmOyZ",
        "outputId": "9ed330a1-efa9-4880-9265-6aae65147b80"
      },
      "source": [
        "len(model.trainable_variables)"
      ],
      "execution_count": null,
      "outputs": [
        {
          "output_type": "execute_result",
          "data": {
            "text/plain": [
              "2"
            ]
          },
          "metadata": {
            "tags": []
          },
          "execution_count": 30
        }
      ]
    },
    {
      "cell_type": "code",
      "metadata": {
        "colab": {
          "base_uri": "https://localhost:8080/"
        },
        "id": "AizwEk57mQAl",
        "outputId": "a373d1bb-7a49-43ca-8856-ba507a5f1241"
      },
      "source": [
        "\n",
        "STEP_SIZE_TRAIN=train_batches.n//train_batches.batch_size\n",
        "STEP_SIZE_VALID=validation_batches.n//validation_batches.batch_size\n",
        "\n",
        "fine_tune_epochs = 10\n",
        "total_epochs =  initial_epochs + fine_tune_epochs\n",
        "\n",
        "history_fine = model.fit(train_batches,\n",
        "                         epochs=total_epochs,\n",
        "                         initial_epoch =  history.epoch[-1],\n",
        "                         validation_data=validation_batches,\n",
        "                         steps_per_epoch =STEP_SIZE_TRAIN,\n",
        "    validation_steps = STEP_SIZE_VALID,callbacks=[callback])"
      ],
      "execution_count": null,
      "outputs": [
        {
          "output_type": "stream",
          "text": [
            "/usr/local/lib/python3.7/dist-packages/keras_preprocessing/image/image_data_generator.py:720: UserWarning: This ImageDataGenerator specifies `featurewise_center`, but it hasn't been fit on any training data. Fit it first by calling `.fit(numpy_data)`.\n",
            "  warnings.warn('This ImageDataGenerator specifies '\n",
            "/usr/local/lib/python3.7/dist-packages/keras_preprocessing/image/image_data_generator.py:739: UserWarning: This ImageDataGenerator specifies `zca_whitening`, but it hasn't been fit on any training data. Fit it first by calling `.fit(numpy_data)`.\n",
            "  warnings.warn('This ImageDataGenerator specifies '\n"
          ],
          "name": "stderr"
        },
        {
          "output_type": "stream",
          "text": [
            "Epoch 10/20\n",
            "117/117 [==============================] - 314s 3s/step - loss: 0.0273 - accuracy: 0.9947 - val_loss: 0.0582 - val_accuracy: 0.9824\n",
            "Epoch 11/20\n",
            "117/117 [==============================] - 314s 3s/step - loss: 0.0303 - accuracy: 0.9928 - val_loss: 0.0470 - val_accuracy: 0.9890\n",
            "Epoch 12/20\n",
            "117/117 [==============================] - 312s 3s/step - loss: 0.0252 - accuracy: 0.9965 - val_loss: 0.0464 - val_accuracy: 0.9857\n",
            "Epoch 13/20\n",
            "117/117 [==============================] - 314s 3s/step - loss: 0.0286 - accuracy: 0.9925 - val_loss: 0.0570 - val_accuracy: 0.9802\n",
            "Epoch 14/20\n",
            "117/117 [==============================] - 311s 3s/step - loss: 0.0256 - accuracy: 0.9952 - val_loss: 0.0452 - val_accuracy: 0.9934\n",
            "Epoch 15/20\n",
            "117/117 [==============================] - 317s 3s/step - loss: 0.0252 - accuracy: 0.9955 - val_loss: 0.0618 - val_accuracy: 0.9835\n",
            "Epoch 16/20\n",
            "117/117 [==============================] - 314s 3s/step - loss: 0.0312 - accuracy: 0.9925 - val_loss: 0.0611 - val_accuracy: 0.9835\n",
            "Epoch 17/20\n",
            "117/117 [==============================] - 313s 3s/step - loss: 0.0289 - accuracy: 0.9933 - val_loss: 0.0528 - val_accuracy: 0.9857\n",
            "Epoch 18/20\n",
            "117/117 [==============================] - 311s 3s/step - loss: 0.0290 - accuracy: 0.9936 - val_loss: 0.0551 - val_accuracy: 0.9868\n"
          ],
          "name": "stdout"
        }
      ]
    },
    {
      "cell_type": "code",
      "metadata": {
        "id": "omM5nkKwmYCc"
      },
      "source": [
        "acc += history_fine.history['accuracy']\n",
        "val_acc += history_fine.history['val_accuracy']\n",
        "\n",
        "loss += history_fine.history['loss']\n",
        "val_loss += history_fine.history['val_loss']"
      ],
      "execution_count": null,
      "outputs": []
    },
    {
      "cell_type": "code",
      "metadata": {
        "colab": {
          "base_uri": "https://localhost:8080/",
          "height": 513
        },
        "id": "MoA1b8HfmZtg",
        "outputId": "17e940c4-1f4a-4ce7-ffbc-2ebfeed8ef9c"
      },
      "source": [
        "plt.figure(figsize=(8, 8))\n",
        "plt.subplot(2, 1, 1)\n",
        "plt.plot(acc, label='Training Accuracy')\n",
        "plt.plot(val_acc, label='Validation Accuracy')\n",
        "plt.ylim([0.8, 1])\n",
        "plt.plot([initial_epochs-1,initial_epochs-1],\n",
        "          plt.ylim(), label='Start Fine Tuning')\n",
        "plt.legend(loc='lower right')\n",
        "plt.title('Training and Validation Accuracy')\n",
        "\n",
        "plt.subplot(2, 1, 2)\n",
        "plt.plot(loss, label='Training Loss')\n",
        "plt.plot(val_loss, label='Validation Loss')\n",
        "plt.ylim([0, 1.0])\n",
        "plt.plot([initial_epochs-1,initial_epochs-1],\n",
        "         plt.ylim(), label='Start Fine Tuning')\n",
        "plt.legend(loc='upper right')\n",
        "plt.title('Training and Validation Loss')\n",
        "plt.xlabel('epoch')\n",
        "plt.show()"
      ],
      "execution_count": null,
      "outputs": [
        {
          "output_type": "display_data",
          "data": {
            "image/png": "[encoded data removed]",
            "text/plain": [
              "<Figure size 576x576 with 2 Axes>"
            ]
          },
          "metadata": {
            "tags": [],
            "needs_background": "light"
          }
        }
      ]
    },
    {
      "cell_type": "code",
      "metadata": {
        "colab": {
          "base_uri": "https://localhost:8080/"
        },
        "id": "YY1ha9PGmbPK",
        "outputId": "d1543106-e798-49d5-e5ce-844e3e8b21bf"
      },
      "source": [
        "model.save('/content/mixedMobilnet.h5')"
      ],
      "execution_count": null,
      "outputs": [
        {
          "output_type": "stream",
          "text": [
            "/usr/local/lib/python3.7/dist-packages/keras/utils/generic_utils.py:497: CustomMaskWarning: Custom mask layers require a config and must override get_config. When loading, the custom mask layer must be passed to the custom_objects argument.\n",
            "  category=CustomMaskWarning)\n"
          ],
          "name": "stderr"
        }
      ]
    },
    {
      "cell_type": "code",
      "metadata": {
        "id": "SLxIYDLLK7fb"
      },
      "source": [
        "model.save_weights(filepath='/content/weights_mixed.hdf5')"
      ],
      "execution_count": null,
      "outputs": []
    },
    {
      "cell_type": "code",
      "metadata": {
        "colab": {
          "base_uri": "https://localhost:8080/"
        },
        "id": "014kGSMNmmYP",
        "outputId": "4d820a15-5a04-4d34-f981-989331cb883a"
      },
      "source": [
        "test_datagen = ImageDataGenerator(rescale=1. / 255)\n",
        "\n",
        "eval_generator = test_datagen.flow_from_directory(\n",
        "        test_dir,target_size=IMAGE_SIZE,\n",
        "        batch_size=1,\n",
        "        shuffle=False,\n",
        "        seed=42,\n",
        "        \n",
        "        \n",
        "        class_mode=\"categorical\")\n",
        "eval_generator.reset()"
      ],
      "execution_count": null,
      "outputs": [
        {
          "output_type": "stream",
          "text": [
            "Found 1233 images belonging to 2 classes.\n"
          ],
          "name": "stdout"
        }
      ]
    },
    {
      "cell_type": "code",
      "metadata": {
        "colab": {
          "base_uri": "https://localhost:8080/"
        },
        "id": "6sSb06Qxmdpv",
        "outputId": "cd49dbb1-896c-4f48-cbe4-415ffd6c40c4"
      },
      "source": [
        "eval_generator.reset()  \n",
        "x = model.evaluate(eval_generator,  \n",
        "                           steps = np.ceil(len(eval_generator) / 32),\n",
        "                           use_multiprocessing = False,\n",
        "                           verbose = 1,\n",
        "                           workers=1\n",
        "                   )\n",
        "\n",
        "\n",
        "print('Test loss:' , x[0])\n",
        "print('Test accuracy:',x[1])"
      ],
      "execution_count": null,
      "outputs": [
        {
          "output_type": "stream",
          "text": [
            "39/39 [==============================] - 2s 55ms/step - loss: 0.0175 - accuracy: 1.0000\n",
            "Test loss: 0.017468459904193878\n",
            "Test accuracy: 1.0\n"
          ],
          "name": "stdout"
        }
      ]
    },
    {
      "cell_type": "code",
      "metadata": {
        "colab": {
          "base_uri": "https://localhost:8080/"
        },
        "id": "K3y1c13qmhEO",
        "outputId": "f89e8af8-dba0-496b-eb7b-1d85cff0a9f8"
      },
      "source": [
        "preds = model.evaluate(eval_generator,batch_size=1,steps = np.ceil(len(eval_generator) / 1),\n",
        "                           use_multiprocessing = False,\n",
        "                           verbose = 1,\n",
        "                           workers=1)\n",
        "print (\"Validation Loss = \" + str(preds[0]))\n",
        "print (\"Validation Accuracy = \" + str(preds[1]))"
      ],
      "execution_count": null,
      "outputs": [
        {
          "output_type": "stream",
          "text": [
            "1233/1233 [==============================] - 96s 78ms/step - loss: 0.0136 - accuracy: 0.9976\n",
            "Validation Loss = 0.013555833138525486\n",
            "Validation Accuracy = 0.9975669384002686\n"
          ],
          "name": "stdout"
        }
      ]
    },
    {
      "cell_type": "code",
      "metadata": {
        "colab": {
          "base_uri": "https://localhost:8080/"
        },
        "id": "8KZ-MWosm_2Z",
        "outputId": "e66a260a-6b8d-4efa-bd43-bf1e0750b0ec"
      },
      "source": [
        "eval_generator.reset()  \n",
        "pred = model.predict(eval_generator,steps = np.ceil(len(eval_generator) / 1),\n",
        "                           use_multiprocessing = False,\n",
        "                           verbose = 1,\n",
        "                           workers=1)\n",
        "print(\"Predictions finished\")"
      ],
      "execution_count": null,
      "outputs": [
        {
          "output_type": "stream",
          "text": [
            "1233/1233 [==============================] - 86s 70ms/step\n",
            "Predictions finished\n"
          ],
          "name": "stdout"
        }
      ]
    },
    {
      "cell_type": "code",
      "metadata": {
        "colab": {
          "base_uri": "https://localhost:8080/"
        },
        "id": "D0Q6eSQlnBR7",
        "outputId": "0259a721-6241-416a-dca3-7cbf751ce894"
      },
      "source": [
        "print(pred)"
      ],
      "execution_count": null,
      "outputs": [
        {
          "output_type": "stream",
          "text": [
            "[[9.9995959e-01 4.0404633e-05]\n",
            " [9.9998593e-01 1.4027957e-05]\n",
            " [9.9999988e-01 7.1828381e-08]\n",
            " ...\n",
            " [1.6075493e-05 9.9998391e-01]\n",
            " [2.3854921e-04 9.9976140e-01]\n",
            " [1.9560163e-07 9.9999976e-01]]\n"
          ],
          "name": "stdout"
        }
      ]
    },
    {
      "cell_type": "code",
      "metadata": {
        "id": "L3D-71OanCWc"
      },
      "source": [
        "pred_labels = np.argmax(pred, axis = 1)"
      ],
      "execution_count": null,
      "outputs": []
    },
    {
      "cell_type": "code",
      "metadata": {
        "colab": {
          "base_uri": "https://localhost:8080/"
        },
        "id": "cgC55_Sy7Auz",
        "outputId": "2f6aab2f-7d94-4d50-f553-290500971713"
      },
      "source": [
        "print(pred_labels)"
      ],
      "execution_count": null,
      "outputs": [
        {
          "output_type": "stream",
          "text": [
            "[0 0 0 ... 1 1 1]\n"
          ],
          "name": "stdout"
        }
      ]
    },
    {
      "cell_type": "code",
      "metadata": {
        "id": "N7gX4dsDDC7J"
      },
      "source": [
        "############################################################"
      ],
      "execution_count": null,
      "outputs": []
    },
    {
      "cell_type": "code",
      "metadata": {
        "colab": {
          "base_uri": "https://localhost:8080/"
        },
        "id": "8nxqLXgMnDsb",
        "outputId": "a6d47164-da9c-4e22-93cd-939b4ea2aa5f"
      },
      "source": [
        "len(eval_generator.classes)"
      ],
      "execution_count": null,
      "outputs": [
        {
          "output_type": "execute_result",
          "data": {
            "text/plain": [
              "1233"
            ]
          },
          "metadata": {
            "tags": []
          },
          "execution_count": 46
        }
      ]
    },
    {
      "cell_type": "code",
      "metadata": {
        "colab": {
          "base_uri": "https://localhost:8080/"
        },
        "id": "-u2FBnkFnE6F",
        "outputId": "2ab676cf-d200-44d5-ee1d-106c6fae5d4f"
      },
      "source": [
        "len(pred_labels)"
      ],
      "execution_count": null,
      "outputs": [
        {
          "output_type": "execute_result",
          "data": {
            "text/plain": [
              "1233"
            ]
          },
          "metadata": {
            "tags": []
          },
          "execution_count": 47
        }
      ]
    },
    {
      "cell_type": "code",
      "metadata": {
        "id": "_K9xow4inGE2"
      },
      "source": [
        "from sklearn.metrics import confusion_matrix, classification_report"
      ],
      "execution_count": null,
      "outputs": []
    },
    {
      "cell_type": "code",
      "metadata": {
        "colab": {
          "base_uri": "https://localhost:8080/"
        },
        "id": "aOcgzhEqnH1W",
        "outputId": "5d49ed2d-bfd9-45c9-ada4-432d37961dea"
      },
      "source": [
        "print(classification_report(eval_generator.classes, pred_labels))"
      ],
      "execution_count": null,
      "outputs": [
        {
          "output_type": "stream",
          "text": [
            "              precision    recall  f1-score   support\n",
            "\n",
            "           0       1.00      0.99      1.00       702\n",
            "           1       0.99      1.00      1.00       531\n",
            "\n",
            "    accuracy                           1.00      1233\n",
            "   macro avg       1.00      1.00      1.00      1233\n",
            "weighted avg       1.00      1.00      1.00      1233\n",
            "\n"
          ],
          "name": "stdout"
        }
      ]
    },
    {
      "cell_type": "code",
      "metadata": {
        "colab": {
          "base_uri": "https://localhost:8080/"
        },
        "id": "ZUqzsbUUnKWI",
        "outputId": "b0aa471c-f348-4170-d905-59bcbf6a1a70"
      },
      "source": [
        "from keras.models import load_model\n",
        "from keras.preprocessing import image\n",
        "import matplotlib.pyplot as plt\n",
        "import numpy as np\n",
        "import os\n",
        "\n",
        "\n",
        "def load_image(img_path, show=False):\n",
        "\n",
        "    img = image.load_img(img_path, target_size=(256, 256))\n",
        "    img_tensor = image.img_to_array(img)                    # (height, width, channels)\n",
        "    img_tensor = np.expand_dims(img_tensor, axis=0)         # (1, height, width, channels), add a dimension because the model expects this shape: (batch_size, height, width, channels)\n",
        "    img_tensor /= 255.                                      # imshow expects values in the range [0, 1]\n",
        "\n",
        "    if show:\n",
        "        plt.imshow(img_tensor[0])                           \n",
        "        plt.axis('off')\n",
        "        plt.show()\n",
        "\n",
        "    return img_tensor\n",
        "\n",
        "\n",
        "if __name__ == \"__main__\":\n",
        "\n",
        "    # load model\n",
        "    model = load_model(\"/content/mixedMobilnet.h5\")\n",
        "\n",
        "    # image path\n",
        "    #img_path = '/content/Places2/Places2/val/indoor/00000003 (3).jpg'   \n",
        "    img_path = '/content/featureextract/featureextract/val/indoor/00000002 (14).jpg'     \n",
        "\n",
        "    # load a single image\n",
        "    new_image = load_image(img_path)\n",
        "\n",
        "    # check prediction\n",
        "    pred = model.predict_classes(new_image)\n",
        "\n",
        "if pred==0:\n",
        "  print(\"indoor\")\n",
        "else:\n",
        "  print(\"outdoor\")"
      ],
      "execution_count": null,
      "outputs": [
        {
          "output_type": "stream",
          "text": [
            "/usr/local/lib/python3.7/dist-packages/keras/engine/sequential.py:450: UserWarning: `model.predict_classes()` is deprecated and will be removed after 2021-01-01. Please use instead:* `np.argmax(model.predict(x), axis=-1)`,   if your model does multi-class classification   (e.g. if it uses a `softmax` last-layer activation).* `(model.predict(x) > 0.5).astype(\"int32\")`,   if your model does binary classification   (e.g. if it uses a `sigmoid` last-layer activation).\n",
            "  warnings.warn('`model.predict_classes()` is deprecated and '\n"
          ],
          "name": "stderr"
        },
        {
          "output_type": "stream",
          "text": [
            "indoor\n"
          ],
          "name": "stdout"
        }
      ]
    },
    {
      "cell_type": "code",
      "metadata": {
        "id": "wqwlIjF117H2"
      },
      "source": [
        "########################Feature extraction##################3"
      ],
      "execution_count": null,
      "outputs": []
    },
    {
      "cell_type": "code",
      "metadata": {
        "colab": {
          "base_uri": "https://localhost:8080/"
        },
        "id": "yZoX8AVrkxKJ",
        "outputId": "c48d3a89-fbaf-4f92-a9ce-be42a3cc03d1"
      },
      "source": [
        "from google.colab import drive \n",
        "drive.mount('/content/drive')"
      ],
      "execution_count": null,
      "outputs": [
        {
          "output_type": "stream",
          "text": [
            "Mounted at /content/drive\n"
          ],
          "name": "stdout"
        }
      ]
    },
    {
      "cell_type": "code",
      "metadata": {
        "id": "5SZRh8BTkzzU"
      },
      "source": [
        "!mkdir wea"
      ],
      "execution_count": null,
      "outputs": []
    },
    {
      "cell_type": "code",
      "metadata": {
        "id": "9wY0mo8gk1Ds"
      },
      "source": [
        "import shutil \n",
        "shutil.unpack_archive(\"drive/MyDrive/wea.zip\", \"wea/\")"
      ],
      "execution_count": null,
      "outputs": []
    },
    {
      "cell_type": "code",
      "metadata": {
        "id": "TJ8sPG_8k2aY"
      },
      "source": [
        "from __future__ import absolute_import, division, print_function, unicode_literals\n",
        "\n",
        "import os\n",
        "\n",
        "import numpy as np\n",
        "\n",
        "import matplotlib.pyplot as plt\n",
        "\n",
        "import pathlib"
      ],
      "execution_count": null,
      "outputs": []
    },
    {
      "cell_type": "code",
      "metadata": {
        "colab": {
          "base_uri": "https://localhost:8080/"
        },
        "id": "eTQscuM0k22q",
        "outputId": "9705f91f-21e4-4992-b1f2-d6fdca34bb13"
      },
      "source": [
        "from os import listdir\n",
        "data_list = listdir('/content/wea/wea')\n",
        "\n",
        "#Delete some classes that may interfere\n",
        "\n",
        "\n",
        "data_list"
      ],
      "execution_count": null,
      "outputs": [
        {
          "output_type": "execute_result",
          "data": {
            "text/plain": [
              "['train', 'val']"
            ]
          },
          "metadata": {
            "tags": []
          },
          "execution_count": 5
        }
      ]
    },
    {
      "cell_type": "code",
      "metadata": {
        "id": "HAbqOfJqk4Ui"
      },
      "source": [
        "from tensorflow.keras.preprocessing.image import ImageDataGenerator"
      ],
      "execution_count": null,
      "outputs": []
    },
    {
      "cell_type": "code",
      "metadata": {
        "id": "r0BVuW9Al_f3"
      },
      "source": [
        "DATASET_PATH  = '/content/wea/wea/train'\n",
        "test_dir =  '/content/wea/wea/val'\n",
        "IMAGE_SIZE    = (256, 256)\n",
        "NUM_CLASSES   = len(data_list)\n",
        "BATCH_SIZE    = 32 # try reducing batch size or freeze more layers if your GPU runs out of memory\n",
        "NUM_EPOCHS    = 10\n",
        "LEARNING_RATE = 0.0001 #start off with high rate first 0.001 #5e-4"
      ],
      "execution_count": null,
      "outputs": []
    },
    {
      "cell_type": "code",
      "metadata": {
        "id": "Zybk2kUjmBK8"
      },
      "source": [
        "from keras.preprocessing import image\n",
        "import pandas as pd\n",
        "from keras.models import load_model\n",
        "\n",
        "import matplotlib.pyplot as plt\n",
        "import numpy as np\n",
        "import os\n",
        "import imageio\n",
        "import cv2\n",
        "import tensorflow as tf\n",
        "import h5py\n",
        "#df = pd.read_excel(\"/content/feature.xls\")\n",
        "\n",
        "\n",
        "def load_image(img_path, show=False):\n",
        "\n",
        "    #img = image.load_img(img_path, target_size=(256, 256))\n",
        "    # (height, width, channels)\n",
        "    img_tensor = image.img_to_array(img_path)  # img\n",
        "    # (1, height, width, channels), add a dimension because the model expects this shape: (batch_size, height, width, channels)\n",
        "    img_tensor = np.expand_dims(img_tensor, axis=0)\n",
        "    # imshow expects values in the range [0, 1]\n",
        "    img_tensor /= 255.\n",
        "\n",
        "    if show:\n",
        "        plt.imshow(img_tensor[0])\n",
        "        plt.axis('off')\n",
        "        plt.show()\n",
        "\n",
        "    return img_tensor\n",
        "\n",
        "\n",
        "if __name__ == \"__main__\":\n",
        "\n",
        "    # load model\n",
        "    #model = load_model(\"D:/DRDO/mixedMobilnet.h5\")\n",
        "\n",
        "    path = \"/content/wea/wea/train/fog\"\n",
        "    x_feature=[]\n",
        "    y_label=[]\n",
        "    \n",
        "    for image_path in os.listdir(path):\n",
        "        # image path\n",
        "        #img_path = 'D:/DRDO/testSetPlaces205_resize/00ffa154cfd6ddc5c3b483bf1c2976bb.jpg'\n",
        "        #img_path = 'D:/Places2/train/outdoor/00000004.jpg'\n",
        "\n",
        "        # load a single image\n",
        "        input_path = os.path.join(path, image_path)\n",
        "        new_image = imageio.imread(input_path)\n",
        "        new_image = cv2.resize(new_image, (256, 256))\n",
        "        new_image = load_image(new_image)\n",
        "        layer = model.get_layer(\"last_layer\")\n",
        "        layer2 = tf.keras.Model(inputs=model.input, outputs=layer.output)\n",
        "#for every image in every train label folder:\n",
        "     #layer = model.get_layer(\"last_layer\")\n",
        "     #inter_layer_model = Model(inputs = base_model.input, outputs = layer.output)\n",
        "        #temp = layer2.predict(np.expand_dims(new_image,axis=0))\n",
        "        temp = layer2.predict(new_image)\n",
        "        #print(temp)\n",
        "        #print(\"#############\")\n",
        "        x_feature.append(np.squeeze(temp))\n",
        "        #print(x_feature)\n",
        "        y_label.append(0)\n",
        "    #print(x_feature)\n",
        "    #with h5py.File(( '/content/Traindata_svm.h5'), 'a') as hf:\n",
        "      #hf.dataset(\"TrainFeatures\",  data=x_feature)\n",
        "      #hf.dataset(\"TrainLabels\",  data=y_label)"
      ],
      "execution_count": null,
      "outputs": []
    },
    {
      "cell_type": "code",
      "metadata": {
        "colab": {
          "base_uri": "https://localhost:8080/"
        },
        "id": "oDaJmtGNmmcC",
        "outputId": "a9f6da48-35be-4263-f866-5e094dfc7352"
      },
      "source": [
        "print(len(x_feature))\n",
        "print(len(y_label))"
      ],
      "execution_count": null,
      "outputs": [
        {
          "output_type": "stream",
          "text": [
            "400\n",
            "400\n"
          ],
          "name": "stdout"
        }
      ]
    },
    {
      "cell_type": "code",
      "metadata": {
        "id": "5rn-ctYImoKI"
      },
      "source": [
        "path = \"/content/wea/wea/train/night\"\n",
        "\n",
        "    \n",
        "for image_path in os.listdir(path):\n",
        "    # image path\n",
        "    #img_path = 'D:/DRDO/testSetPlaces205_resize/00ffa154cfd6ddc5c3b483bf1c2976bb.jpg'\n",
        "    #img_path = 'D:/Places2/train/outdoor/00000004.jpg'\n",
        "\n",
        "    # load a single image\n",
        "    input_path = os.path.join(path, image_path)\n",
        "    new_image = imageio.imread(input_path)\n",
        "    new_image = cv2.resize(new_image, (256, 256))\n",
        "    new_image = load_image(new_image)\n",
        "    layer = model.get_layer(\"last_layer\")\n",
        "    layer2 = tf.keras.Model(inputs=model.input, outputs=layer.output)\n",
        "#for every image in every train label folder:\n",
        "  #layer = model.get_layer(\"last_layer\")\n",
        "  #inter_layer_model = Model(inputs = base_model.input, outputs = layer.output)\n",
        "    #temp = layer2.predict(np.expand_dims(new_image,axis=0))\n",
        "    temp = layer2.predict(new_image)\n",
        "    #print(temp)\n",
        "    #print(\"#############\")\n",
        "    x_feature.append(np.squeeze(temp))\n",
        "    #print(x_feature)\n",
        "    y_label.append(1)"
      ],
      "execution_count": null,
      "outputs": []
    },
    {
      "cell_type": "code",
      "metadata": {
        "colab": {
          "base_uri": "https://localhost:8080/"
        },
        "id": "FNOIbD1Ymrqz",
        "outputId": "2a4a214b-88f6-4cec-d573-4a7252ac69d0"
      },
      "source": [
        "print(len(x_feature))\n",
        "print(len(y_label))"
      ],
      "execution_count": null,
      "outputs": [
        {
          "output_type": "stream",
          "text": [
            "800\n",
            "800\n"
          ],
          "name": "stdout"
        }
      ]
    },
    {
      "cell_type": "code",
      "metadata": {
        "id": "Uv50qu0cmtLM"
      },
      "source": [
        "path = \"/content/wea/wea/train/normal\"\n",
        "\n",
        "    \n",
        "for image_path in os.listdir(path):\n",
        "    # image path\n",
        "    #img_path = 'D:/DRDO/testSetPlaces205_resize/00ffa154cfd6ddc5c3b483bf1c2976bb.jpg'\n",
        "    #img_path = 'D:/Places2/train/outdoor/00000004.jpg'\n",
        "\n",
        "    # load a single image\n",
        "    input_path = os.path.join(path, image_path)\n",
        "    new_image = imageio.imread(input_path)\n",
        "    new_image = cv2.resize(new_image, (256, 256))\n",
        "    new_image = load_image(new_image)\n",
        "    layer = model.get_layer(\"last_layer\")\n",
        "    layer2 = tf.keras.Model(inputs=model.input, outputs=layer.output)\n",
        "#for every image in every train label folder:\n",
        "  #layer = model.get_layer(\"last_layer\")\n",
        "  #inter_layer_model = Model(inputs = base_model.input, outputs = layer.output)\n",
        "    #temp = layer2.predict(np.expand_dims(new_image,axis=0))\n",
        "    temp = layer2.predict(new_image)\n",
        "    #print(temp)\n",
        "    #print(\"#############\")\n",
        "    x_feature.append(np.squeeze(temp))\n",
        "    #print(x_feature)\n",
        "    y_label.append(2)"
      ],
      "execution_count": null,
      "outputs": []
    },
    {
      "cell_type": "code",
      "metadata": {
        "colab": {
          "base_uri": "https://localhost:8080/"
        },
        "id": "G2dA-v6kmtzZ",
        "outputId": "f099e2a5-255c-4a48-97a4-b4bb57a6db31"
      },
      "source": [
        "print(len(x_feature))\n",
        "print(len(y_label))"
      ],
      "execution_count": null,
      "outputs": [
        {
          "output_type": "stream",
          "text": [
            "1207\n",
            "1207\n"
          ],
          "name": "stdout"
        }
      ]
    },
    {
      "cell_type": "code",
      "metadata": {
        "id": "2SLcYCIjmu4_"
      },
      "source": [
        "path = \"/content/wea/wea/train/rain\"\n",
        "\n",
        "    \n",
        "for image_path in os.listdir(path):\n",
        "    # image path\n",
        "    #img_path = 'D:/DRDO/testSetPlaces205_resize/00ffa154cfd6ddc5c3b483bf1c2976bb.jpg'\n",
        "    #img_path = 'D:/Places2/train/outdoor/00000004.jpg'\n",
        "\n",
        "    # load a single image\n",
        "    input_path = os.path.join(path, image_path)\n",
        "    new_image = imageio.imread(input_path)\n",
        "    new_image = cv2.resize(new_image, (256, 256))\n",
        "    new_image = load_image(new_image)\n",
        "    layer = model.get_layer(\"last_layer\")\n",
        "    layer2 = tf.keras.Model(inputs=model.input, outputs=layer.output)\n",
        "#for every image in every train label folder:\n",
        "  #layer = model.get_layer(\"last_layer\")\n",
        "  #inter_layer_model = Model(inputs = base_model.input, outputs = layer.output)\n",
        "    #temp = layer2.predict(np.expand_dims(new_image,axis=0))\n",
        "    temp = layer2.predict(new_image)\n",
        "    #print(temp)\n",
        "    #print(\"#############\")\n",
        "    x_feature.append(np.squeeze(temp))\n",
        "    #print(x_feature)\n",
        "    y_label.append(3)"
      ],
      "execution_count": null,
      "outputs": []
    },
    {
      "cell_type": "code",
      "metadata": {
        "colab": {
          "base_uri": "https://localhost:8080/"
        },
        "id": "C6bebRLbmwnW",
        "outputId": "537dc20d-76bc-4936-8c01-666bccf9ed74"
      },
      "source": [
        "print(len(x_feature))\n",
        "print(len(y_label))"
      ],
      "execution_count": null,
      "outputs": [
        {
          "output_type": "stream",
          "text": [
            "1607\n",
            "1607\n"
          ],
          "name": "stdout"
        }
      ]
    },
    {
      "cell_type": "code",
      "metadata": {
        "id": "O3QCh0wHmx9k"
      },
      "source": [
        "path = \"/content/wea/wea/train/snow\"\n",
        "\n",
        "    \n",
        "for image_path in os.listdir(path):\n",
        "    # image path\n",
        "    #img_path = 'D:/DRDO/testSetPlaces205_resize/00ffa154cfd6ddc5c3b483bf1c2976bb.jpg'\n",
        "    #img_path = 'D:/Places2/train/outdoor/00000004.jpg'\n",
        "\n",
        "    # load a single image\n",
        "    input_path = os.path.join(path, image_path)\n",
        "    new_image = imageio.imread(input_path)\n",
        "    new_image = cv2.resize(new_image, (256, 256))\n",
        "    new_image = load_image(new_image)\n",
        "    layer = model.get_layer(\"last_layer\")\n",
        "    layer2 = tf.keras.Model(inputs=model.input, outputs=layer.output)\n",
        "#for every image in every train label folder:\n",
        "  #layer = model.get_layer(\"last_layer\")\n",
        "  #inter_layer_model = Model(inputs = base_model.input, outputs = layer.output)\n",
        "    #temp = layer2.predict(np.expand_dims(new_image,axis=0))\n",
        "    temp = layer2.predict(new_image)\n",
        "    #print(temp)\n",
        "    #print(\"#############\")\n",
        "    x_feature.append(np.squeeze(temp))\n",
        "    #print(x_feature)\n",
        "    y_label.append(4)"
      ],
      "execution_count": null,
      "outputs": []
    },
    {
      "cell_type": "code",
      "metadata": {
        "colab": {
          "base_uri": "https://localhost:8080/"
        },
        "id": "G1KgO8Hzmzv2",
        "outputId": "010aec2d-299c-4c27-bc58-5a516b6dc2e7"
      },
      "source": [
        "print(len(x_feature))\n",
        "print(len(y_label))"
      ],
      "execution_count": null,
      "outputs": [
        {
          "output_type": "stream",
          "text": [
            "2007\n",
            "2007\n"
          ],
          "name": "stdout"
        }
      ]
    },
    {
      "cell_type": "code",
      "metadata": {
        "id": "XYdpOoZCm2Po"
      },
      "source": [
        "import h5py\n",
        "with h5py.File(( '/content/Traindata_svm.h5'), 'w') as hf:\n",
        "  hf.create_dataset(\"TrainFeatures\",  data=x_feature)\n",
        "  hf.create_dataset(\"TrainLabels\",  data=y_label)"
      ],
      "execution_count": null,
      "outputs": []
    },
    {
      "cell_type": "code",
      "metadata": {
        "id": "Zpaearng1vd_"
      },
      "source": [
        "#############SVM#####################"
      ],
      "execution_count": null,
      "outputs": []
    },
    {
      "cell_type": "code",
      "metadata": {
        "id": "s04COxRjwiUd"
      },
      "source": [
        "from sklearn import svm, datasets\n",
        "import sklearn.model_selection as model_selection\n",
        "from sklearn.metrics import accuracy_score\n",
        "from sklearn.metrics import f1_score"
      ],
      "execution_count": 3,
      "outputs": []
    },
    {
      "cell_type": "code",
      "metadata": {
        "id": "YgorGOicwjaj"
      },
      "source": [
        "import h5py\n",
        "with h5py.File('/content/drive/MyDrive/Traindata_svm(1).h5', 'r') as hf:\n",
        "  keys = list(hf.keys())\n",
        "    #print(keys)\n",
        "  X_train = hf['TrainFeatures'][:]\n",
        "  y_train = hf['TrainLabels'][:]\n",
        "from sklearn.preprocessing import MultiLabelBinarizer\n",
        "#y_train = MultiLabelBinarizer().fit_transform(y_train)\n"
      ],
      "execution_count": 4,
      "outputs": []
    },
    {
      "cell_type": "code",
      "metadata": {
        "id": "Dhtj6XYcwr3f"
      },
      "source": [
        "with h5py.File('/content/drive/MyDrive/Testdata_svm(1).h5', 'r') as hf:\n",
        "  keys = list(hf.keys())\n",
        "    #print(keys)\n",
        "  X_test = hf['TestFeatures'][:]\n",
        "  y_test = hf['TestLabels'][:]\n",
        "#y_test = MultiLabelBinarizer().fit_transform(y_test)\n"
      ],
      "execution_count": 5,
      "outputs": []
    },
    {
      "cell_type": "code",
      "metadata": {
        "id": "4GQKvva_4mB5"
      },
      "source": [
        "###############poly################"
      ],
      "execution_count": null,
      "outputs": []
    },
    {
      "cell_type": "code",
      "metadata": {
        "id": "ZDQVEKR4wyO1"
      },
      "source": [
        "\n",
        "poly = svm.SVC(kernel='poly', degree=5, C=1).fit(X_train, y_train)"
      ],
      "execution_count": 12,
      "outputs": []
    },
    {
      "cell_type": "code",
      "metadata": {
        "id": "96_R27z8w1Ct"
      },
      "source": [
        "poly_pred = poly.predict(X_test)\n"
      ],
      "execution_count": 13,
      "outputs": []
    },
    {
      "cell_type": "code",
      "metadata": {
        "colab": {
          "base_uri": "https://localhost:8080/"
        },
        "id": "NuGe3K31w3J9",
        "outputId": "28ed2f25-c849-4263-b69e-3f14fcabc03a"
      },
      "source": [
        "poly_accuracy = accuracy_score(y_test, poly_pred)\n",
        "poly_f1 = f1_score(y_test, poly_pred, average='weighted')\n",
        "print('Accuracy (Polynomial Kernel): ', \"%.2f\" % (poly_accuracy*100))\n",
        "print('F1 (Polynomial Kernel): ', \"%.2f\" % (poly_f1*100))"
      ],
      "execution_count": 15,
      "outputs": [
        {
          "output_type": "stream",
          "text": [
            "Accuracy (Polynomial Kernel):  90.40\n",
            "F1 (Polynomial Kernel):  90.27\n"
          ],
          "name": "stdout"
        }
      ]
    },
    {
      "cell_type": "code",
      "metadata": {
        "colab": {
          "base_uri": "https://localhost:8080/"
        },
        "id": "vNxsdoYS3oIJ",
        "outputId": "93ffb178-4b75-4378-c0ee-ffe4b77e5941"
      },
      "source": [
        "from sklearn.metrics import classification_report\n",
        "print(classification_report(y_test, poly_pred))"
      ],
      "execution_count": 14,
      "outputs": [
        {
          "output_type": "stream",
          "text": [
            "              precision    recall  f1-score   support\n",
            "\n",
            "           0       0.87      0.93      0.90       100\n",
            "           1       1.00      1.00      1.00       106\n",
            "           2       0.94      0.76      0.84       125\n",
            "           3       0.84      0.90      0.87       100\n",
            "           4       0.87      0.96      0.91       100\n",
            "\n",
            "    accuracy                           0.90       531\n",
            "   macro avg       0.90      0.91      0.90       531\n",
            "weighted avg       0.91      0.90      0.90       531\n",
            "\n"
          ],
          "name": "stdout"
        }
      ]
    },
    {
      "cell_type": "code",
      "metadata": {
        "id": "nLQa4SJB3wEO"
      },
      "source": [
        "#############ovo##############"
      ],
      "execution_count": null,
      "outputs": []
    },
    {
      "cell_type": "code",
      "metadata": {
        "id": "53xH3pjcDcDj"
      },
      "source": [
        "clf = svm.SVC(decision_function_shape='ovo')\n",
        "clf.fit(X_train, y_train)\n",
        "pred  = clf.predict(X_test)"
      ],
      "execution_count": 9,
      "outputs": []
    },
    {
      "cell_type": "code",
      "metadata": {
        "colab": {
          "base_uri": "https://localhost:8080/"
        },
        "id": "7_AyN8rmEfj0",
        "outputId": "013cf0ab-2eba-4a47-ce82-b4c439ab0cb1"
      },
      "source": [
        "accuracy = accuracy_score(y_test, pred)\n",
        "f1 = f1_score(y_test, pred, average='weighted')\n",
        "print('Accuracy : ', \"%.2f\" % (accuracy*100))\n",
        "print('F1 : ', \"%.2f\" % (f1*100))"
      ],
      "execution_count": 10,
      "outputs": [
        {
          "output_type": "stream",
          "text": [
            "Accuracy :  91.53\n",
            "F1 :  91.40\n"
          ],
          "name": "stdout"
        }
      ]
    },
    {
      "cell_type": "code",
      "metadata": {
        "colab": {
          "base_uri": "https://localhost:8080/"
        },
        "id": "n69nDeGw3Z0a",
        "outputId": "d10d0345-faec-47f9-ff91-3311ec04cc87"
      },
      "source": [
        "from sklearn.metrics import classification_report\n",
        "print(classification_report(y_test, pred))"
      ],
      "execution_count": 11,
      "outputs": [
        {
          "output_type": "stream",
          "text": [
            "              precision    recall  f1-score   support\n",
            "\n",
            "           0       0.91      0.95      0.93       100\n",
            "           1       0.99      1.00      1.00       106\n",
            "           2       0.95      0.77      0.85       125\n",
            "           3       0.83      0.93      0.88       100\n",
            "           4       0.90      0.96      0.93       100\n",
            "\n",
            "    accuracy                           0.92       531\n",
            "   macro avg       0.92      0.92      0.92       531\n",
            "weighted avg       0.92      0.92      0.91       531\n",
            "\n"
          ],
          "name": "stdout"
        }
      ]
    },
    {
      "cell_type": "code",
      "metadata": {
        "id": "KdA1QhA53x7e"
      },
      "source": [
        "###################ovr#############(HIGHEST)"
      ],
      "execution_count": null,
      "outputs": []
    },
    {
      "cell_type": "code",
      "metadata": {
        "id": "tv6T8wEIGOO1"
      },
      "source": [
        "svm_ovr = svm.SVC(kernel='linear', gamma='auto', decision_function_shape='ovr')\n",
        "svm_ovr.fit(X_train, y_train)\n",
        "pred1 = svm_ovr.predict(X_test)"
      ],
      "execution_count": 6,
      "outputs": []
    },
    {
      "cell_type": "code",
      "metadata": {
        "colab": {
          "base_uri": "https://localhost:8080/"
        },
        "id": "y3y0BGFhGU_L",
        "outputId": "68575d45-1a61-4dec-deaf-a85cf795b931"
      },
      "source": [
        "accuracy1 = accuracy_score(y_test, pred1)\n",
        "f11 = f1_score(y_test, pred1, average='weighted')\n",
        "print('Accuracy : ', \"%.2f\" % (accuracy1*100))\n",
        "print('F1 : ', \"%.2f\" % (f11*100))"
      ],
      "execution_count": 7,
      "outputs": [
        {
          "output_type": "stream",
          "text": [
            "Accuracy :  93.41\n",
            "F1 :  93.37\n"
          ],
          "name": "stdout"
        }
      ]
    },
    {
      "cell_type": "code",
      "metadata": {
        "colab": {
          "base_uri": "https://localhost:8080/"
        },
        "id": "P4kHXvEj27AI",
        "outputId": "f3a9cfb6-7cbf-42cb-a364-24e6b46a5711"
      },
      "source": [
        "from sklearn.metrics import classification_report\n",
        "print(classification_report(y_test, pred1))"
      ],
      "execution_count": 8,
      "outputs": [
        {
          "output_type": "stream",
          "text": [
            "              precision    recall  f1-score   support\n",
            "\n",
            "           0       0.88      0.94      0.91       100\n",
            "           1       1.00      1.00      1.00       106\n",
            "           2       0.91      0.85      0.88       125\n",
            "           3       0.94      0.92      0.93       100\n",
            "           4       0.95      0.98      0.97       100\n",
            "\n",
            "    accuracy                           0.93       531\n",
            "   macro avg       0.93      0.94      0.94       531\n",
            "weighted avg       0.93      0.93      0.93       531\n",
            "\n"
          ],
          "name": "stdout"
        }
      ]
    }
  ]
}