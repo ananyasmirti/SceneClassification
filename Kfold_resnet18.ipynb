{
  "nbformat": 4,
  "nbformat_minor": 0,
  "metadata": {
    "colab": {
      "name": "Kfold-resnet18.ipynb",
      "provenance": []
    },
    "kernelspec": {
      "name": "python3",
      "display_name": "Python 3"
    },
    "language_info": {
      "name": "python"
    },
    "widgets": {
      "application/vnd.jupyter.widget-state+json": {
        "85b41b75c66b46818232ddfbe0fb26a8": {
          "model_module": "@jupyter-widgets/controls",
          "model_name": "HBoxModel",
          "state": {
            "_view_name": "HBoxView",
            "_dom_classes": [],
            "_model_name": "HBoxModel",
            "_view_module": "@jupyter-widgets/controls",
            "_model_module_version": "1.5.0",
            "_view_count": null,
            "_view_module_version": "1.5.0",
            "box_style": "",
            "layout": "IPY_MODEL_70793998f4cc4267babd0bc7796cf9c5",
            "_model_module": "@jupyter-widgets/controls",
            "children": [
              "IPY_MODEL_5af778d6c26b4cd6b6735b1530cda9d1",
              "IPY_MODEL_2ece06e5d66a4016b46eefa7c45ee866"
            ]
          }
        },
        "70793998f4cc4267babd0bc7796cf9c5": {
          "model_module": "@jupyter-widgets/base",
          "model_name": "LayoutModel",
          "state": {
            "_view_name": "LayoutView",
            "grid_template_rows": null,
            "right": null,
            "justify_content": null,
            "_view_module": "@jupyter-widgets/base",
            "overflow": null,
            "_model_module_version": "1.2.0",
            "_view_count": null,
            "flex_flow": null,
            "width": null,
            "min_width": null,
            "border": null,
            "align_items": null,
            "bottom": null,
            "_model_module": "@jupyter-widgets/base",
            "top": null,
            "grid_column": null,
            "overflow_y": null,
            "overflow_x": null,
            "grid_auto_flow": null,
            "grid_area": null,
            "grid_template_columns": null,
            "flex": null,
            "_model_name": "LayoutModel",
            "justify_items": null,
            "grid_row": null,
            "max_height": null,
            "align_content": null,
            "visibility": null,
            "align_self": null,
            "height": null,
            "min_height": null,
            "padding": null,
            "grid_auto_rows": null,
            "grid_gap": null,
            "max_width": null,
            "order": null,
            "_view_module_version": "1.2.0",
            "grid_template_areas": null,
            "object_position": null,
            "object_fit": null,
            "grid_auto_columns": null,
            "margin": null,
            "display": null,
            "left": null
          }
        },
        "5af778d6c26b4cd6b6735b1530cda9d1": {
          "model_module": "@jupyter-widgets/controls",
          "model_name": "FloatProgressModel",
          "state": {
            "_view_name": "ProgressView",
            "style": "IPY_MODEL_16820e65af1c43a4906378762fd3670d",
            "_dom_classes": [],
            "description": "100%",
            "_model_name": "FloatProgressModel",
            "bar_style": "success",
            "max": 46830571,
            "_view_module": "@jupyter-widgets/controls",
            "_model_module_version": "1.5.0",
            "value": 46830571,
            "_view_count": null,
            "_view_module_version": "1.5.0",
            "orientation": "horizontal",
            "min": 0,
            "description_tooltip": null,
            "_model_module": "@jupyter-widgets/controls",
            "layout": "IPY_MODEL_dce4e54fc0d54dfbaee402887ebc6517"
          }
        },
        "2ece06e5d66a4016b46eefa7c45ee866": {
          "model_module": "@jupyter-widgets/controls",
          "model_name": "HTMLModel",
          "state": {
            "_view_name": "HTMLView",
            "style": "IPY_MODEL_8a205b644a3b439fbe9d8a37d5776a9e",
            "_dom_classes": [],
            "description": "",
            "_model_name": "HTMLModel",
            "placeholder": "​",
            "_view_module": "@jupyter-widgets/controls",
            "_model_module_version": "1.5.0",
            "value": " 44.7M/44.7M [01:24&lt;00:00, 551kB/s]",
            "_view_count": null,
            "_view_module_version": "1.5.0",
            "description_tooltip": null,
            "_model_module": "@jupyter-widgets/controls",
            "layout": "IPY_MODEL_246233f7ae1443748eba03838e4e965f"
          }
        },
        "16820e65af1c43a4906378762fd3670d": {
          "model_module": "@jupyter-widgets/controls",
          "model_name": "ProgressStyleModel",
          "state": {
            "_view_name": "StyleView",
            "_model_name": "ProgressStyleModel",
            "description_width": "initial",
            "_view_module": "@jupyter-widgets/base",
            "_model_module_version": "1.5.0",
            "_view_count": null,
            "_view_module_version": "1.2.0",
            "bar_color": null,
            "_model_module": "@jupyter-widgets/controls"
          }
        },
        "dce4e54fc0d54dfbaee402887ebc6517": {
          "model_module": "@jupyter-widgets/base",
          "model_name": "LayoutModel",
          "state": {
            "_view_name": "LayoutView",
            "grid_template_rows": null,
            "right": null,
            "justify_content": null,
            "_view_module": "@jupyter-widgets/base",
            "overflow": null,
            "_model_module_version": "1.2.0",
            "_view_count": null,
            "flex_flow": null,
            "width": null,
            "min_width": null,
            "border": null,
            "align_items": null,
            "bottom": null,
            "_model_module": "@jupyter-widgets/base",
            "top": null,
            "grid_column": null,
            "overflow_y": null,
            "overflow_x": null,
            "grid_auto_flow": null,
            "grid_area": null,
            "grid_template_columns": null,
            "flex": null,
            "_model_name": "LayoutModel",
            "justify_items": null,
            "grid_row": null,
            "max_height": null,
            "align_content": null,
            "visibility": null,
            "align_self": null,
            "height": null,
            "min_height": null,
            "padding": null,
            "grid_auto_rows": null,
            "grid_gap": null,
            "max_width": null,
            "order": null,
            "_view_module_version": "1.2.0",
            "grid_template_areas": null,
            "object_position": null,
            "object_fit": null,
            "grid_auto_columns": null,
            "margin": null,
            "display": null,
            "left": null
          }
        },
        "8a205b644a3b439fbe9d8a37d5776a9e": {
          "model_module": "@jupyter-widgets/controls",
          "model_name": "DescriptionStyleModel",
          "state": {
            "_view_name": "StyleView",
            "_model_name": "DescriptionStyleModel",
            "description_width": "",
            "_view_module": "@jupyter-widgets/base",
            "_model_module_version": "1.5.0",
            "_view_count": null,
            "_view_module_version": "1.2.0",
            "_model_module": "@jupyter-widgets/controls"
          }
        },
        "246233f7ae1443748eba03838e4e965f": {
          "model_module": "@jupyter-widgets/base",
          "model_name": "LayoutModel",
          "state": {
            "_view_name": "LayoutView",
            "grid_template_rows": null,
            "right": null,
            "justify_content": null,
            "_view_module": "@jupyter-widgets/base",
            "overflow": null,
            "_model_module_version": "1.2.0",
            "_view_count": null,
            "flex_flow": null,
            "width": null,
            "min_width": null,
            "border": null,
            "align_items": null,
            "bottom": null,
            "_model_module": "@jupyter-widgets/base",
            "top": null,
            "grid_column": null,
            "overflow_y": null,
            "overflow_x": null,
            "grid_auto_flow": null,
            "grid_area": null,
            "grid_template_columns": null,
            "flex": null,
            "_model_name": "LayoutModel",
            "justify_items": null,
            "grid_row": null,
            "max_height": null,
            "align_content": null,
            "visibility": null,
            "align_self": null,
            "height": null,
            "min_height": null,
            "padding": null,
            "grid_auto_rows": null,
            "grid_gap": null,
            "max_width": null,
            "order": null,
            "_view_module_version": "1.2.0",
            "grid_template_areas": null,
            "object_position": null,
            "object_fit": null,
            "grid_auto_columns": null,
            "margin": null,
            "display": null,
            "left": null
          }
        }
      }
    },
    "accelerator": "GPU"
  },
  "cells": [
    {
      "cell_type": "code",
      "metadata": {
        "id": "4lgkm_boQAZ1"
      },
      "source": [
        "from os.path import exists"
      ],
      "execution_count": null,
      "outputs": []
    },
    {
      "cell_type": "code",
      "metadata": {
        "id": "q1C_4FhjQBuw"
      },
      "source": [
        "from google.colab import drive \n",
        "drive.mount('/content/drive')"
      ],
      "execution_count": null,
      "outputs": []
    },
    {
      "cell_type": "code",
      "metadata": {
        "id": "sbl2fF7xQDnT"
      },
      "source": [
        "!mkdir anon"
      ],
      "execution_count": null,
      "outputs": []
    },
    {
      "cell_type": "code",
      "metadata": {
        "id": "JWW7iODxQE0T"
      },
      "source": [
        "import shutil \n",
        "shutil.unpack_archive(\"drive/MyDrive/wea.zip\", \"anon/\")"
      ],
      "execution_count": null,
      "outputs": []
    },
    {
      "cell_type": "code",
      "metadata": {
        "id": "ApeYaqyByEZe"
      },
      "source": [
        "import os\n",
        "import torch\n",
        "from torch import nn\n",
        "#from torchvision.datasets import MNIST\n",
        "from torch.utils.data import DataLoader, ConcatDataset\n",
        "from torchvision import transforms\n",
        "from sklearn.model_selection import KFold\n",
        "\n",
        "import torch.optim as optim\n",
        "from torch.optim import lr_scheduler\n",
        "from torch.autograd import Variable\n",
        "import numpy as np\n",
        "import torchvision\n",
        "from torchvision import datasets, models, transforms\n",
        "import matplotlib.pyplot as plt\n",
        "import time\n",
        "import os\n",
        "import copy"
      ],
      "execution_count": null,
      "outputs": []
    },
    {
      "cell_type": "code",
      "metadata": {
        "id": "31zjs4hRyJTu"
      },
      "source": [
        "def reset_weights(m):\n",
        "  '''\n",
        "    Try resetting model weights to avoid\n",
        "    weight leakage.\n",
        "  '''\n",
        "  for layer in m.children():\n",
        "   if hasattr(layer, 'reset_parameters'):\n",
        "    print(f'Reset trainable parameters of layer = {layer}')\n",
        "    layer.reset_parameters()"
      ],
      "execution_count": null,
      "outputs": []
    },
    {
      "cell_type": "code",
      "metadata": {
        "id": "666FE4CBygUW"
      },
      "source": [
        ""
      ],
      "execution_count": null,
      "outputs": []
    },
    {
      "cell_type": "code",
      "metadata": {
        "colab": {
          "base_uri": "https://localhost:8080/"
        },
        "id": "0UV5YQYsM65L",
        "outputId": "35ee37c3-d4f5-4ffc-ffdd-7c7aac746968"
      },
      "source": [
        "# Configuration options\n",
        "k_folds = 3\n",
        "num_epochs = 1\n",
        "loss_function = nn.CrossEntropyLoss()\n",
        "  \n",
        "  # For fold results\n",
        "results = {}\n",
        "  \n",
        "  # Set fixed random number seed\n",
        "torch.manual_seed(42)\n",
        "  "
      ],
      "execution_count": null,
      "outputs": [
        {
          "output_type": "execute_result",
          "data": {
            "text/plain": [
              "<torch._C.Generator at 0x7faa51251c50>"
            ]
          },
          "metadata": {
            "tags": []
          },
          "execution_count": 7
        }
      ]
    },
    {
      "cell_type": "code",
      "metadata": {
        "id": "pYi3xIt1NBs3"
      },
      "source": [
        "# Data augmentation and normalization for training\n",
        "# Just normalization for validation\n",
        "data_transforms = {\n",
        "    'train': transforms.Compose([\n",
        "        transforms.RandomResizedCrop(224),\n",
        "        transforms.RandomHorizontalFlip(),\n",
        "        transforms.ToTensor(),\n",
        "        transforms.Normalize([0.485, 0.456, 0.406], [0.229, 0.224, 0.225])\n",
        "    ]),\n",
        "    'val': transforms.Compose([\n",
        "        transforms.Resize(256),\n",
        "        transforms.CenterCrop(224),\n",
        "        transforms.ToTensor(),\n",
        "        transforms.Normalize([0.485, 0.456, 0.406], [0.229, 0.224, 0.225])\n",
        "    ]),\n",
        "}"
      ],
      "execution_count": null,
      "outputs": []
    },
    {
      "cell_type": "code",
      "metadata": {
        "id": "RllgnjxGNWYA"
      },
      "source": [
        "data_dir  = '/content/anon/wea'"
      ],
      "execution_count": null,
      "outputs": []
    },
    {
      "cell_type": "code",
      "metadata": {
        "id": "Y8OaUYBENucj"
      },
      "source": [
        "train_dataset = datasets.ImageFolder(root='/content/anon/wea/train', transform=data_transforms['train'])\n",
        "test_dataset = datasets.ImageFolder(root='/content/anon/wea/val', transform=data_transforms['val'])\n",
        "dataset = ConcatDataset([train_dataset, test_dataset])"
      ],
      "execution_count": null,
      "outputs": []
    },
    {
      "cell_type": "code",
      "metadata": {
        "id": "dxu0fxZcNvfq"
      },
      "source": [
        "kfold = KFold(n_splits=k_folds, shuffle=True)"
      ],
      "execution_count": null,
      "outputs": []
    },
    {
      "cell_type": "code",
      "metadata": {
        "colab": {
          "base_uri": "https://localhost:8080/",
          "height": 86,
          "referenced_widgets": [
            "85b41b75c66b46818232ddfbe0fb26a8",
            "70793998f4cc4267babd0bc7796cf9c5",
            "5af778d6c26b4cd6b6735b1530cda9d1",
            "2ece06e5d66a4016b46eefa7c45ee866",
            "16820e65af1c43a4906378762fd3670d",
            "dce4e54fc0d54dfbaee402887ebc6517",
            "8a205b644a3b439fbe9d8a37d5776a9e",
            "246233f7ae1443748eba03838e4e965f"
          ]
        },
        "id": "pf48OdqSSr7l",
        "outputId": "068742ec-5c05-4e0c-b0b6-e7264467d0ca"
      },
      "source": [
        "model_ft = models.resnet18(pretrained=True)\n",
        "num_ftrs = model_ft.fc.in_features\n",
        "model_ft.fc = nn.Linear(num_ftrs, 5)\n",
        "\n",
        "model_ft = model_ft.to(device)\n",
        "\n",
        "criterion = nn.CrossEntropyLoss()\n",
        "\n",
        "# Observe that all parameters are being optimized\n",
        "optimizer_ft = optim.SGD(model_ft.parameters(), lr=0.001, momentum=0.9)\n",
        "\n",
        "# Decay LR by a factor of 0.1 every 7 epochs\n",
        "exp_lr_scheduler = lr_scheduler.StepLR(optimizer_ft, step_size=7, gamma=0.1)"
      ],
      "execution_count": null,
      "outputs": [
        {
          "output_type": "stream",
          "text": [
            "Downloading: \"https://download.pytorch.org/models/resnet18-f37072fd.pth\" to /root/.cache/torch/hub/checkpoints/resnet18-f37072fd.pth\n"
          ],
          "name": "stderr"
        },
        {
          "output_type": "display_data",
          "data": {
            "application/vnd.jupyter.widget-view+json": {
              "model_id": "85b41b75c66b46818232ddfbe0fb26a8",
              "version_minor": 0,
              "version_major": 2
            },
            "text/plain": [
              "HBox(children=(FloatProgress(value=0.0, max=46830571.0), HTML(value='')))"
            ]
          },
          "metadata": {
            "tags": []
          }
        },
        {
          "output_type": "stream",
          "text": [
            "\n"
          ],
          "name": "stdout"
        }
      ]
    },
    {
      "cell_type": "code",
      "metadata": {
        "colab": {
          "base_uri": "https://localhost:8080/"
        },
        "id": "FjGMevaAO4YX",
        "outputId": "6984c5e4-4428-4ca5-842c-22e98a68a56e"
      },
      "source": [
        "for fold, (train_ids, test_ids) in enumerate(kfold.split(dataset)):\n",
        "    \n",
        "  # Print\n",
        "  print(f'FOLD {fold}')\n",
        "  print('--------------------------------')\n",
        "    \n",
        "    # Sample elements randomly from a given list of ids, no replacement.\n",
        "  train_subsampler = torch.utils.data.SubsetRandomSampler(train_ids)\n",
        "  test_subsampler = torch.utils.data.SubsetRandomSampler(test_ids)\n",
        "    \n",
        "    # Define data loaders for training and testing data in this fold\n",
        "  trainloader = torch.utils.data.DataLoader(\n",
        "                     dataset, \n",
        "                      batch_size=10, sampler=train_subsampler)\n",
        "  testloader = torch.utils.data.DataLoader(\n",
        "                      dataset,\n",
        "                      batch_size=10, sampler=test_subsampler)\n",
        "    \n",
        "    # Init the neural network\n",
        "  network = model_ft \n",
        "  #network.apply(reset_weights)\n",
        "  \n",
        "    # Initialize optimizer\n",
        "  optimizer = optim.SGD(model_ft.parameters(), lr=0.001, momentum=0.9)\n",
        "    \n",
        "    # Run the training loop for defined number of epochs\n",
        "  for epoch in range(0, 10):\n",
        "\n",
        "      # Print epoch\n",
        "    print(f'Starting epoch {epoch+1}')\n",
        "\n",
        "      # Set current loss value\n",
        "    current_loss = 0.0\n",
        "\n",
        "      # Iterate over the DataLoader for training data\n",
        "    for i, data in enumerate(trainloader, 0):\n",
        "        \n",
        "        # Get inputs\n",
        "      inputs, targets = data\n",
        "      \n",
        "        # Zero the gradients\n",
        "      optimizer.zero_grad()\n",
        "        \n",
        "        # Perform forward pass\n",
        "      outputs = network(inputs)\n",
        "        \n",
        "        # Compute loss\n",
        "      loss = loss_function(outputs, targets)\n",
        "        \n",
        "        # Perform backward pass\n",
        "      loss.backward()\n",
        "        \n",
        "        # Perform optimization\n",
        "      optimizer.step()\n",
        "      exp_lr_scheduler .step()\n",
        "        # Print statistics\n",
        "      current_loss += loss.item()\n",
        "      if i % 100 == 99:\n",
        "        print('Loss after mini-batch %5d: %.3f' %\n",
        "                  (i + 1, current_loss / 100))\n",
        "        current_loss = 0.0\n",
        "            \n",
        "    # Process is complete.\n",
        "  print('Training process has finished. Saving trained model.')\n",
        "\n",
        "    # Print about testing\n",
        "  print('Starting testing')\n",
        "    \n",
        "    # Saving the model\n",
        "  save_path = f'./model-fold-{fold}.pth'\n",
        "  torch.save(network.state_dict(), save_path)\n",
        "\n",
        "    # Evaluationfor this fold\n",
        "  correct, total = 0, 0\n",
        "  with torch.no_grad():\n",
        "\n",
        "      # Iterate over the test data and generate predictions\n",
        "    for i, data in enumerate(testloader, 0):\n",
        "\n",
        "        # Get inputs\n",
        "      inputs, targets = data\n",
        "\n",
        "        # Generate outputs\n",
        "      outputs = network(inputs)\n",
        "\n",
        "        # Set total and correct\n",
        "      _, predicted = torch.max(outputs.data, 1)\n",
        "      total += targets.size(0)\n",
        "      correct += (predicted == targets).sum().item()\n",
        "\n",
        "      # Print accuracy\n",
        "    print('Accuracy for fold %d: %d %%' % (fold, 100.0 * correct / total))\n",
        "    print('--------------------------------')\n",
        "    results[fold] = 100.0 * (correct / total)\n",
        "    \n",
        "  # Print fold results\n",
        "print(f'K-FOLD CROSS VALIDATION RESULTS FOR {k_folds} FOLDS')\n",
        "print('--------------------------------')\n",
        "sum = 0.0\n",
        "for key, value in results.items():\n",
        "  print(f'Fold {key}: {value} %')\n",
        "  sum += value\n",
        "print(f'Average: {sum/len(results.items())} %')"
      ],
      "execution_count": null,
      "outputs": [
        {
          "output_type": "stream",
          "text": [
            "FOLD 0\n",
            "--------------------------------\n",
            "Starting epoch 1\n",
            "Starting epoch 2\n",
            "Starting epoch 3\n",
            "Starting epoch 4\n",
            "Starting epoch 5\n",
            "Starting epoch 6\n",
            "Starting epoch 7\n",
            "Starting epoch 8\n",
            "Starting epoch 9\n",
            "Starting epoch 10\n",
            "Training process has finished. Saving trained model.\n",
            "Starting testing\n",
            "Accuracy for fold 0: 90 %\n",
            "--------------------------------\n",
            "FOLD 1\n",
            "--------------------------------\n",
            "Starting epoch 1\n",
            "Starting epoch 2\n",
            "Starting epoch 3\n",
            "Starting epoch 4\n",
            "Starting epoch 5\n",
            "Starting epoch 6\n",
            "Starting epoch 7\n",
            "Starting epoch 8\n",
            "Starting epoch 9\n",
            "Starting epoch 10\n",
            "Training process has finished. Saving trained model.\n",
            "Starting testing\n",
            "Accuracy for fold 1: 91 %\n",
            "--------------------------------\n",
            "FOLD 2\n",
            "--------------------------------\n",
            "Starting epoch 1\n",
            "Starting epoch 2\n",
            "Starting epoch 3\n",
            "Starting epoch 4\n",
            "Starting epoch 5\n",
            "Starting epoch 6\n",
            "Starting epoch 7\n",
            "Starting epoch 8\n",
            "Starting epoch 9\n",
            "Starting epoch 10\n",
            "Training process has finished. Saving trained model.\n",
            "Starting testing\n",
            "Accuracy for fold 2: 94 %\n",
            "--------------------------------\n",
            "FOLD 3\n",
            "--------------------------------\n",
            "Starting epoch 1\n",
            "Starting epoch 2\n",
            "Starting epoch 3\n",
            "Starting epoch 4\n",
            "Starting epoch 5\n"
          ],
          "name": "stdout"
        }
      ]
    }
  ]
}